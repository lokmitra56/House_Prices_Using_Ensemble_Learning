{
  "nbformat": 4,
  "nbformat_minor": 0,
  "metadata": {
    "kernelspec": {
      "display_name": "Python 3",
      "language": "python",
      "name": "python3"
    },
    "language_info": {
      "codemirror_mode": {
        "name": "ipython",
        "version": 3
      },
      "file_extension": ".py",
      "mimetype": "text/x-python",
      "name": "python",
      "nbconvert_exporter": "python",
      "pygments_lexer": "ipython3",
      "version": "3.6.3"
    },
    "colab": {
      "name": "stacked-regressions-top-4-on-leaderboard.ipynb",
      "provenance": []
    },
    "accelerator": "GPU"
  },
  "cells": [
    {
      "cell_type": "markdown",
      "metadata": {
        "_cell_guid": "7238ae8d-73dc-474b-9d36-92647cdc6030",
        "_execution_state": "idle",
        "_uuid": "691c624259cf2737f7e29c2fdbbc7f255e842eb2",
        "id": "n1v1EWr8mbQz"
      },
      "source": [
        "#Stacked Regressions to predict House Prices \n",
        "\n",
        "\n",
        "##Serigne\n",
        "\n",
        "**July 2017**\n",
        "\n",
        "**If you use parts of this notebook in your scripts/notebooks, giving  some kind of credit would be very much appreciated :)  You can for instance link back to this notebook. Thanks!**"
      ]
    },
    {
      "cell_type": "markdown",
      "metadata": {
        "_cell_guid": "735c5797-4457-4e16-b21f-7f0982f2f016",
        "_execution_state": "idle",
        "_uuid": "35143ae31bde76e140a55855b89e0d42b56160a3",
        "id": "hcGVHcY9mbQ1"
      },
      "source": [
        "This competition is very important to me as  it helped me to begin my journey on Kaggle few months ago. I've read  some great notebooks here. To name a few:\n",
        "\n",
        "1. [Comprehensive data exploration with Python][1] by **Pedro Marcelino**  : Great and very motivational data analysis\n",
        "\n",
        "2. [A study on Regression applied to the Ames dataset][2] by **Julien Cohen-Solal**  : Thorough features engeneering and deep dive into linear regression analysis  but really easy to follow for beginners.\n",
        "\n",
        "3. [Regularized Linear Models][3] by **Alexandru Papiu**  : Great Starter kernel on modelling and Cross-validation\n",
        "\n",
        "I can't recommend enough every beginner to go carefully through these kernels (and of course through many others great kernels) and get their first insights in data science and kaggle competitions.\n",
        "\n",
        "After that (and some basic pratices) you should be more confident to go through [this great script][7] by **Human Analog**  who did an impressive work on features engeneering. \n",
        "\n",
        "As the dataset is particularly handy, I  decided few days ago to get back in this competition and apply things I learnt so far, especially stacking models. For that purpose, we build two stacking classes  ( the simplest approach and a less simple one). \n",
        "\n",
        "As these classes are written for general purpose, you can easily adapt them and/or extend them for your regression problems. \n",
        "The overall approach is  hopefully concise and easy to follow.. \n",
        "\n",
        "The features engeneering is rather parsimonious (at least compared to some others great scripts) . It is pretty much :\n",
        "\n",
        "- **Imputing missing values**  by proceeding sequentially through the data\n",
        "\n",
        "- **Transforming** some numerical variables that seem really categorical\n",
        "\n",
        "- **Label Encoding** some categorical variables that may contain information in their ordering set\n",
        "\n",
        "-  [**Box Cox Transformation**][4] of skewed features (instead of log-transformation) : This gave me a **slightly better result** both on leaderboard and cross-validation.\n",
        "\n",
        "- ** Getting dummy variables** for categorical features. \n",
        "\n",
        "Then we choose many base models (mostly sklearn based models + sklearn API of  DMLC's [XGBoost][5] and Microsoft's [LightGBM][6]), cross-validate them on the data before stacking/ensembling them. The key here is to make the (linear) models robust to outliers. This improved the result both on LB and cross-validation. \n",
        "\n",
        "  [1]: https://www.kaggle.com/pmarcelino/comprehensive-data-exploration-with-python\n",
        "  [2]:https://www.kaggle.com/juliencs/a-study-on-regression-applied-to-the-ames-dataset\n",
        "  [3]: https://www.kaggle.com/apapiu/regularized-linear-models\n",
        "  [4]: http://onlinestatbook.com/2/transformations/box-cox.html\n",
        "  [5]: https://github.com/dmlc/xgboost\n",
        " [6]: https://github.com/Microsoft/LightGBM\n",
        " [7]: https://www.kaggle.com/humananalog/xgboost-lasso\n",
        "\n",
        "To my surprise, this does well on LB ( 0.11420 and top 4% the last time I tested it : **July 2, 2017** )\n",
        "\n"
      ]
    },
    {
      "cell_type": "markdown",
      "metadata": {
        "_cell_guid": "d006e9e6-e191-4918-b8c1-5730f1d08e77",
        "_uuid": "ae5d947988d70f9ccbea3345f396c8394e7b1e4b",
        "id": "9mPNsAAcmbQ3"
      },
      "source": [
        "**Hope that at the end of this notebook, stacking will be clear for those, like myself, who found the concept not so easy to grasp**"
      ]
    },
    {
      "cell_type": "code",
      "metadata": {
        "id": "klncyXQih-7l",
        "colab": {
          "resources": {
            "http://localhost:8080/nbextensions/google.colab/files.js": {
              "data": "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",
              "ok": true,
              "headers": [
                [
                  "content-type",
                  "application/javascript"
                ]
              ],
              "status": 200,
              "status_text": ""
            }
          },
          "base_uri": "https://localhost:8080/",
          "height": 91
        },
        "outputId": "63dedf07-a428-4fd3-d63b-501cf5679c72"
      },
      "source": [
        "from google.colab import files\n",
        "files.upload()"
      ],
      "execution_count": null,
      "outputs": [
        {
          "output_type": "display_data",
          "data": {
            "text/html": [
              "\n",
              "     <input type=\"file\" id=\"files-e68f9474-3f94-462b-a121-75cceb2ec5ad\" name=\"files[]\" multiple disabled />\n",
              "     <output id=\"result-e68f9474-3f94-462b-a121-75cceb2ec5ad\">\n",
              "      Upload widget is only available when the cell has been executed in the\n",
              "      current browser session. Please rerun this cell to enable.\n",
              "      </output>\n",
              "      <script src=\"/nbextensions/google.colab/files.js\"></script> "
            ],
            "text/plain": [
              "<IPython.core.display.HTML object>"
            ]
          },
          "metadata": {
            "tags": []
          }
        },
        {
          "output_type": "stream",
          "text": [
            "Saving kaggle.json to kaggle.json\n"
          ],
          "name": "stdout"
        },
        {
          "output_type": "execute_result",
          "data": {
            "text/plain": [
              "{'kaggle.json': b'{\"username\":\"ilariongarbuzov\",\"key\":\"c35c23298b2b0fab9258f79545194113\"}'}"
            ]
          },
          "metadata": {
            "tags": []
          },
          "execution_count": 1
        }
      ]
    },
    {
      "cell_type": "code",
      "metadata": {
        "id": "KlzyXFmMiC84",
        "colab": {
          "base_uri": "https://localhost:8080/",
          "height": 34
        },
        "outputId": "47052524-390a-492b-a1ce-b8fefb34f935"
      },
      "source": [
        "!mkdir -p ~/.kaggle\n",
        "!cp kaggle.json ~/.kaggle/\n",
        "!chmod 600 ~/.kaggle/kaggle.json\n",
        "!ls ~/.kaggle"
      ],
      "execution_count": null,
      "outputs": [
        {
          "output_type": "stream",
          "text": [
            "kaggle.json\n"
          ],
          "name": "stdout"
        }
      ]
    },
    {
      "cell_type": "code",
      "metadata": {
        "id": "pZIJB1KvhpVN",
        "colab": {
          "base_uri": "https://localhost:8080/",
          "height": 403
        },
        "outputId": "05de2991-e164-41c0-8d92-fa902d6467a9"
      },
      "source": [
        "!kaggle competitions list"
      ],
      "execution_count": null,
      "outputs": [
        {
          "output_type": "stream",
          "text": [
            "Warning: Looks like you're using an outdated API Version, please consider updating (server 1.5.6 / client 1.5.4)\n",
            "ref                                               deadline             category            reward  teamCount  userHasEntered  \n",
            "------------------------------------------------  -------------------  ---------------  ---------  ---------  --------------  \n",
            "digit-recognizer                                  2030-01-01 00:00:00  Getting Started  Knowledge       3198           False  \n",
            "titanic                                           2030-01-01 00:00:00  Getting Started  Knowledge      23373            True  \n",
            "house-prices-advanced-regression-techniques       2030-01-01 00:00:00  Getting Started  Knowledge       5342            True  \n",
            "connectx                                          2030-01-01 00:00:00  Getting Started  Knowledge        390           False  \n",
            "nlp-getting-started                               2030-01-01 00:00:00  Getting Started      Kudos       1690           False  \n",
            "competitive-data-science-predict-future-sales     2020-12-31 23:59:00  Playground           Kudos       7139           False  \n",
            "siim-isic-melanoma-classification                 2020-08-17 23:59:00  Featured           $30,000        459           False  \n",
            "global-wheat-detection                            2020-08-04 23:59:00  Research           $15,000        663           False  \n",
            "open-images-object-detection-rvc-2020             2020-07-31 16:00:00  Playground       Knowledge         17           False  \n",
            "open-images-instance-segmentation-rvc-2020        2020-07-31 16:00:00  Playground       Knowledge          3           False  \n",
            "hashcode-photo-slideshow                          2020-07-27 23:59:00  Playground       Knowledge         33           False  \n",
            "prostate-cancer-grade-assessment                  2020-07-22 23:59:00  Featured           $25,000        509           False  \n",
            "alaska2-image-steganalysis                        2020-07-20 23:59:00  Research           $25,000        443           False  \n",
            "halite                                            2020-06-30 23:59:00  Featured             Kudos          0           False  \n",
            "m5-forecasting-accuracy                           2020-06-30 23:59:00  Featured           $50,000       4636           False  \n",
            "m5-forecasting-uncertainty                        2020-06-30 23:59:00  Featured           $50,000        553           False  \n",
            "trends-assessment-prediction                      2020-06-29 23:59:00  Research           $25,000        552           False  \n",
            "jigsaw-multilingual-toxic-comment-classification  2020-06-22 23:59:00  Featured           $50,000       1206           False  \n",
            "tweet-sentiment-extraction                        2020-06-16 23:59:00  Featured           $15,000       1731           False  \n",
            "trec-covid-information-retrieval                  2020-06-03 11:00:00  Research             Kudos         19           False  \n"
          ],
          "name": "stdout"
        }
      ]
    },
    {
      "cell_type": "code",
      "metadata": {
        "id": "pt3ZT4lYiGU8",
        "colab": {
          "base_uri": "https://localhost:8080/",
          "height": 235
        },
        "outputId": "47ceda70-0f91-473e-fe24-faf78195ee51"
      },
      "source": [
        "!kaggle competitions download -c house-prices-advanced-regression-techniques"
      ],
      "execution_count": null,
      "outputs": [
        {
          "output_type": "stream",
          "text": [
            "Warning: Looks like you're using an outdated API Version, please consider updating (server 1.5.6 / client 1.5.4)\n",
            "Downloading test.csv to /content\n",
            "  0% 0.00/441k [00:00<?, ?B/s]\n",
            "100% 441k/441k [00:00<00:00, 65.5MB/s]\n",
            "Downloading sample_submission.csv to /content\n",
            "  0% 0.00/31.2k [00:00<?, ?B/s]\n",
            "100% 31.2k/31.2k [00:00<00:00, 32.7MB/s]\n",
            "Downloading train.csv to /content\n",
            "  0% 0.00/450k [00:00<?, ?B/s]\n",
            "100% 450k/450k [00:00<00:00, 63.2MB/s]\n",
            "Downloading data_description.txt to /content\n",
            "  0% 0.00/13.1k [00:00<?, ?B/s]\n",
            "100% 13.1k/13.1k [00:00<00:00, 12.9MB/s]\n"
          ],
          "name": "stdout"
        }
      ]
    },
    {
      "cell_type": "code",
      "metadata": {
        "_cell_guid": "2dbccbd6-138b-4f1b-9b23-fd60c7525c14",
        "_execution_state": "idle",
        "_uuid": "c9b1d5dff21d39260eb47af6fe7aac4bd03be233",
        "collapsed": true,
        "id": "AWFLSnUPmbQ4",
        "colab": {
          "base_uri": "https://localhost:8080/",
          "height": 70
        },
        "outputId": "2bb34a57-fbd3-4cd6-8e0c-dd50748a6cd1"
      },
      "source": [
        "#import some necessary librairies\n",
        "\n",
        "import numpy as np # linear algebra\n",
        "import pandas as pd # data processing, CSV file I/O (e.g. pd.read_csv)\n",
        "%matplotlib inline\n",
        "import matplotlib.pyplot as plt  # Matlab-style plotting\n",
        "import seaborn as sns\n",
        "color = sns.color_palette()\n",
        "sns.set_style('darkgrid')\n",
        "import warnings\n",
        "def ignore_warn(*args, **kwargs):\n",
        "    pass\n",
        "warnings.warn = ignore_warn #ignore annoying warning (from sklearn and seaborn)\n",
        "\n",
        "\n",
        "from scipy import stats\n",
        "from scipy.stats import norm, skew #for some statistics\n",
        "\n",
        "\n",
        "pd.set_option('display.float_format', lambda x: '{:.3f}'.format(x)) #Limiting floats output to 3 decimal points\n",
        "\n",
        "\n",
        "#from subprocess import check_output\n",
        "#print(check_output([\"ls\", \"../input\"]).decode(\"utf8\")) #check the files available in the directory"
      ],
      "execution_count": null,
      "outputs": [
        {
          "output_type": "stream",
          "text": [
            "/usr/local/lib/python3.6/dist-packages/statsmodels/tools/_testing.py:19: FutureWarning: pandas.util.testing is deprecated. Use the functions in the public API at pandas.testing instead.\n",
            "  import pandas.util.testing as tm\n"
          ],
          "name": "stderr"
        }
      ]
    },
    {
      "cell_type": "code",
      "metadata": {
        "_cell_guid": "59617b4b-d797-44ce-9142-05fbfd36aada",
        "_execution_state": "idle",
        "_uuid": "0e694d13459e3e200f6e2c6333c887cbad779ba9",
        "id": "zguR_OFkmbRD"
      },
      "source": [
        "#Now let's import and put the train and test datasets in  pandas dataframe\n",
        "\n",
        "train = pd.read_csv('../content/train.csv')\n",
        "test = pd.read_csv('../content/test.csv')\n"
      ],
      "execution_count": null,
      "outputs": []
    },
    {
      "cell_type": "code",
      "metadata": {
        "id": "8PSEJclOEAKL",
        "colab": {
          "base_uri": "https://localhost:8080/",
          "height": 269
        },
        "outputId": "05b7334d-3918-43ca-91b7-75d3ea7a5428"
      },
      "source": [
        "print(train.columns.values)"
      ],
      "execution_count": null,
      "outputs": [
        {
          "output_type": "stream",
          "text": [
            "['Id' 'MSSubClass' 'MSZoning' 'LotFrontage' 'LotArea' 'Street' 'Alley'\n",
            " 'LotShape' 'LandContour' 'Utilities' 'LotConfig' 'LandSlope'\n",
            " 'Neighborhood' 'Condition1' 'Condition2' 'BldgType' 'HouseStyle'\n",
            " 'OverallQual' 'OverallCond' 'YearBuilt' 'YearRemodAdd' 'RoofStyle'\n",
            " 'RoofMatl' 'Exterior1st' 'Exterior2nd' 'MasVnrType' 'MasVnrArea'\n",
            " 'ExterQual' 'ExterCond' 'Foundation' 'BsmtQual' 'BsmtCond' 'BsmtExposure'\n",
            " 'BsmtFinType1' 'BsmtFinSF1' 'BsmtFinType2' 'BsmtFinSF2' 'BsmtUnfSF'\n",
            " 'TotalBsmtSF' 'Heating' 'HeatingQC' 'CentralAir' 'Electrical' '1stFlrSF'\n",
            " '2ndFlrSF' 'LowQualFinSF' 'GrLivArea' 'BsmtFullBath' 'BsmtHalfBath'\n",
            " 'FullBath' 'HalfBath' 'BedroomAbvGr' 'KitchenAbvGr' 'KitchenQual'\n",
            " 'TotRmsAbvGrd' 'Functional' 'Fireplaces' 'FireplaceQu' 'GarageType'\n",
            " 'GarageYrBlt' 'GarageFinish' 'GarageCars' 'GarageArea' 'GarageQual'\n",
            " 'GarageCond' 'PavedDrive' 'WoodDeckSF' 'OpenPorchSF' 'EnclosedPorch'\n",
            " '3SsnPorch' 'ScreenPorch' 'PoolArea' 'PoolQC' 'Fence' 'MiscFeature'\n",
            " 'MiscVal' 'MoSold' 'YrSold' 'SaleType' 'SaleCondition' 'SalePrice']\n"
          ],
          "name": "stdout"
        }
      ]
    },
    {
      "cell_type": "code",
      "metadata": {
        "_cell_guid": "3678529f-9d76-4853-88c5-4b2d230a85b6",
        "_execution_state": "idle",
        "_uuid": "3a32f51460a02fbe7a9122db55a740eb378dda97",
        "collapsed": true,
        "id": "ndY9EgH0mbRI",
        "colab": {
          "base_uri": "https://localhost:8080/",
          "height": 244
        },
        "outputId": "ac99ebf5-ba31-46ad-bfc5-eef3cf720021"
      },
      "source": [
        "##display the first five rows of the train dataset.\n",
        "train.head(5)"
      ],
      "execution_count": null,
      "outputs": [
        {
          "output_type": "execute_result",
          "data": {
            "text/html": [
              "<div>\n",
              "<style scoped>\n",
              "    .dataframe tbody tr th:only-of-type {\n",
              "        vertical-align: middle;\n",
              "    }\n",
              "\n",
              "    .dataframe tbody tr th {\n",
              "        vertical-align: top;\n",
              "    }\n",
              "\n",
              "    .dataframe thead th {\n",
              "        text-align: right;\n",
              "    }\n",
              "</style>\n",
              "<table border=\"1\" class=\"dataframe\">\n",
              "  <thead>\n",
              "    <tr style=\"text-align: right;\">\n",
              "      <th></th>\n",
              "      <th>Id</th>\n",
              "      <th>MSSubClass</th>\n",
              "      <th>MSZoning</th>\n",
              "      <th>LotFrontage</th>\n",
              "      <th>LotArea</th>\n",
              "      <th>Street</th>\n",
              "      <th>Alley</th>\n",
              "      <th>LotShape</th>\n",
              "      <th>LandContour</th>\n",
              "      <th>Utilities</th>\n",
              "      <th>LotConfig</th>\n",
              "      <th>LandSlope</th>\n",
              "      <th>Neighborhood</th>\n",
              "      <th>Condition1</th>\n",
              "      <th>Condition2</th>\n",
              "      <th>BldgType</th>\n",
              "      <th>HouseStyle</th>\n",
              "      <th>OverallQual</th>\n",
              "      <th>OverallCond</th>\n",
              "      <th>YearBuilt</th>\n",
              "      <th>YearRemodAdd</th>\n",
              "      <th>RoofStyle</th>\n",
              "      <th>RoofMatl</th>\n",
              "      <th>Exterior1st</th>\n",
              "      <th>Exterior2nd</th>\n",
              "      <th>MasVnrType</th>\n",
              "      <th>MasVnrArea</th>\n",
              "      <th>ExterQual</th>\n",
              "      <th>ExterCond</th>\n",
              "      <th>Foundation</th>\n",
              "      <th>BsmtQual</th>\n",
              "      <th>BsmtCond</th>\n",
              "      <th>BsmtExposure</th>\n",
              "      <th>BsmtFinType1</th>\n",
              "      <th>BsmtFinSF1</th>\n",
              "      <th>BsmtFinType2</th>\n",
              "      <th>BsmtFinSF2</th>\n",
              "      <th>BsmtUnfSF</th>\n",
              "      <th>TotalBsmtSF</th>\n",
              "      <th>Heating</th>\n",
              "      <th>...</th>\n",
              "      <th>CentralAir</th>\n",
              "      <th>Electrical</th>\n",
              "      <th>1stFlrSF</th>\n",
              "      <th>2ndFlrSF</th>\n",
              "      <th>LowQualFinSF</th>\n",
              "      <th>GrLivArea</th>\n",
              "      <th>BsmtFullBath</th>\n",
              "      <th>BsmtHalfBath</th>\n",
              "      <th>FullBath</th>\n",
              "      <th>HalfBath</th>\n",
              "      <th>BedroomAbvGr</th>\n",
              "      <th>KitchenAbvGr</th>\n",
              "      <th>KitchenQual</th>\n",
              "      <th>TotRmsAbvGrd</th>\n",
              "      <th>Functional</th>\n",
              "      <th>Fireplaces</th>\n",
              "      <th>FireplaceQu</th>\n",
              "      <th>GarageType</th>\n",
              "      <th>GarageYrBlt</th>\n",
              "      <th>GarageFinish</th>\n",
              "      <th>GarageCars</th>\n",
              "      <th>GarageArea</th>\n",
              "      <th>GarageQual</th>\n",
              "      <th>GarageCond</th>\n",
              "      <th>PavedDrive</th>\n",
              "      <th>WoodDeckSF</th>\n",
              "      <th>OpenPorchSF</th>\n",
              "      <th>EnclosedPorch</th>\n",
              "      <th>3SsnPorch</th>\n",
              "      <th>ScreenPorch</th>\n",
              "      <th>PoolArea</th>\n",
              "      <th>PoolQC</th>\n",
              "      <th>Fence</th>\n",
              "      <th>MiscFeature</th>\n",
              "      <th>MiscVal</th>\n",
              "      <th>MoSold</th>\n",
              "      <th>YrSold</th>\n",
              "      <th>SaleType</th>\n",
              "      <th>SaleCondition</th>\n",
              "      <th>SalePrice</th>\n",
              "    </tr>\n",
              "  </thead>\n",
              "  <tbody>\n",
              "    <tr>\n",
              "      <th>0</th>\n",
              "      <td>1</td>\n",
              "      <td>60</td>\n",
              "      <td>RL</td>\n",
              "      <td>65.000</td>\n",
              "      <td>8450</td>\n",
              "      <td>Pave</td>\n",
              "      <td>NaN</td>\n",
              "      <td>Reg</td>\n",
              "      <td>Lvl</td>\n",
              "      <td>AllPub</td>\n",
              "      <td>Inside</td>\n",
              "      <td>Gtl</td>\n",
              "      <td>CollgCr</td>\n",
              "      <td>Norm</td>\n",
              "      <td>Norm</td>\n",
              "      <td>1Fam</td>\n",
              "      <td>2Story</td>\n",
              "      <td>7</td>\n",
              "      <td>5</td>\n",
              "      <td>2003</td>\n",
              "      <td>2003</td>\n",
              "      <td>Gable</td>\n",
              "      <td>CompShg</td>\n",
              "      <td>VinylSd</td>\n",
              "      <td>VinylSd</td>\n",
              "      <td>BrkFace</td>\n",
              "      <td>196.000</td>\n",
              "      <td>Gd</td>\n",
              "      <td>TA</td>\n",
              "      <td>PConc</td>\n",
              "      <td>Gd</td>\n",
              "      <td>TA</td>\n",
              "      <td>No</td>\n",
              "      <td>GLQ</td>\n",
              "      <td>706</td>\n",
              "      <td>Unf</td>\n",
              "      <td>0</td>\n",
              "      <td>150</td>\n",
              "      <td>856</td>\n",
              "      <td>GasA</td>\n",
              "      <td>...</td>\n",
              "      <td>Y</td>\n",
              "      <td>SBrkr</td>\n",
              "      <td>856</td>\n",
              "      <td>854</td>\n",
              "      <td>0</td>\n",
              "      <td>1710</td>\n",
              "      <td>1</td>\n",
              "      <td>0</td>\n",
              "      <td>2</td>\n",
              "      <td>1</td>\n",
              "      <td>3</td>\n",
              "      <td>1</td>\n",
              "      <td>Gd</td>\n",
              "      <td>8</td>\n",
              "      <td>Typ</td>\n",
              "      <td>0</td>\n",
              "      <td>NaN</td>\n",
              "      <td>Attchd</td>\n",
              "      <td>2003.000</td>\n",
              "      <td>RFn</td>\n",
              "      <td>2</td>\n",
              "      <td>548</td>\n",
              "      <td>TA</td>\n",
              "      <td>TA</td>\n",
              "      <td>Y</td>\n",
              "      <td>0</td>\n",
              "      <td>61</td>\n",
              "      <td>0</td>\n",
              "      <td>0</td>\n",
              "      <td>0</td>\n",
              "      <td>0</td>\n",
              "      <td>NaN</td>\n",
              "      <td>NaN</td>\n",
              "      <td>NaN</td>\n",
              "      <td>0</td>\n",
              "      <td>2</td>\n",
              "      <td>2008</td>\n",
              "      <td>WD</td>\n",
              "      <td>Normal</td>\n",
              "      <td>208500</td>\n",
              "    </tr>\n",
              "    <tr>\n",
              "      <th>1</th>\n",
              "      <td>2</td>\n",
              "      <td>20</td>\n",
              "      <td>RL</td>\n",
              "      <td>80.000</td>\n",
              "      <td>9600</td>\n",
              "      <td>Pave</td>\n",
              "      <td>NaN</td>\n",
              "      <td>Reg</td>\n",
              "      <td>Lvl</td>\n",
              "      <td>AllPub</td>\n",
              "      <td>FR2</td>\n",
              "      <td>Gtl</td>\n",
              "      <td>Veenker</td>\n",
              "      <td>Feedr</td>\n",
              "      <td>Norm</td>\n",
              "      <td>1Fam</td>\n",
              "      <td>1Story</td>\n",
              "      <td>6</td>\n",
              "      <td>8</td>\n",
              "      <td>1976</td>\n",
              "      <td>1976</td>\n",
              "      <td>Gable</td>\n",
              "      <td>CompShg</td>\n",
              "      <td>MetalSd</td>\n",
              "      <td>MetalSd</td>\n",
              "      <td>None</td>\n",
              "      <td>0.000</td>\n",
              "      <td>TA</td>\n",
              "      <td>TA</td>\n",
              "      <td>CBlock</td>\n",
              "      <td>Gd</td>\n",
              "      <td>TA</td>\n",
              "      <td>Gd</td>\n",
              "      <td>ALQ</td>\n",
              "      <td>978</td>\n",
              "      <td>Unf</td>\n",
              "      <td>0</td>\n",
              "      <td>284</td>\n",
              "      <td>1262</td>\n",
              "      <td>GasA</td>\n",
              "      <td>...</td>\n",
              "      <td>Y</td>\n",
              "      <td>SBrkr</td>\n",
              "      <td>1262</td>\n",
              "      <td>0</td>\n",
              "      <td>0</td>\n",
              "      <td>1262</td>\n",
              "      <td>0</td>\n",
              "      <td>1</td>\n",
              "      <td>2</td>\n",
              "      <td>0</td>\n",
              "      <td>3</td>\n",
              "      <td>1</td>\n",
              "      <td>TA</td>\n",
              "      <td>6</td>\n",
              "      <td>Typ</td>\n",
              "      <td>1</td>\n",
              "      <td>TA</td>\n",
              "      <td>Attchd</td>\n",
              "      <td>1976.000</td>\n",
              "      <td>RFn</td>\n",
              "      <td>2</td>\n",
              "      <td>460</td>\n",
              "      <td>TA</td>\n",
              "      <td>TA</td>\n",
              "      <td>Y</td>\n",
              "      <td>298</td>\n",
              "      <td>0</td>\n",
              "      <td>0</td>\n",
              "      <td>0</td>\n",
              "      <td>0</td>\n",
              "      <td>0</td>\n",
              "      <td>NaN</td>\n",
              "      <td>NaN</td>\n",
              "      <td>NaN</td>\n",
              "      <td>0</td>\n",
              "      <td>5</td>\n",
              "      <td>2007</td>\n",
              "      <td>WD</td>\n",
              "      <td>Normal</td>\n",
              "      <td>181500</td>\n",
              "    </tr>\n",
              "    <tr>\n",
              "      <th>2</th>\n",
              "      <td>3</td>\n",
              "      <td>60</td>\n",
              "      <td>RL</td>\n",
              "      <td>68.000</td>\n",
              "      <td>11250</td>\n",
              "      <td>Pave</td>\n",
              "      <td>NaN</td>\n",
              "      <td>IR1</td>\n",
              "      <td>Lvl</td>\n",
              "      <td>AllPub</td>\n",
              "      <td>Inside</td>\n",
              "      <td>Gtl</td>\n",
              "      <td>CollgCr</td>\n",
              "      <td>Norm</td>\n",
              "      <td>Norm</td>\n",
              "      <td>1Fam</td>\n",
              "      <td>2Story</td>\n",
              "      <td>7</td>\n",
              "      <td>5</td>\n",
              "      <td>2001</td>\n",
              "      <td>2002</td>\n",
              "      <td>Gable</td>\n",
              "      <td>CompShg</td>\n",
              "      <td>VinylSd</td>\n",
              "      <td>VinylSd</td>\n",
              "      <td>BrkFace</td>\n",
              "      <td>162.000</td>\n",
              "      <td>Gd</td>\n",
              "      <td>TA</td>\n",
              "      <td>PConc</td>\n",
              "      <td>Gd</td>\n",
              "      <td>TA</td>\n",
              "      <td>Mn</td>\n",
              "      <td>GLQ</td>\n",
              "      <td>486</td>\n",
              "      <td>Unf</td>\n",
              "      <td>0</td>\n",
              "      <td>434</td>\n",
              "      <td>920</td>\n",
              "      <td>GasA</td>\n",
              "      <td>...</td>\n",
              "      <td>Y</td>\n",
              "      <td>SBrkr</td>\n",
              "      <td>920</td>\n",
              "      <td>866</td>\n",
              "      <td>0</td>\n",
              "      <td>1786</td>\n",
              "      <td>1</td>\n",
              "      <td>0</td>\n",
              "      <td>2</td>\n",
              "      <td>1</td>\n",
              "      <td>3</td>\n",
              "      <td>1</td>\n",
              "      <td>Gd</td>\n",
              "      <td>6</td>\n",
              "      <td>Typ</td>\n",
              "      <td>1</td>\n",
              "      <td>TA</td>\n",
              "      <td>Attchd</td>\n",
              "      <td>2001.000</td>\n",
              "      <td>RFn</td>\n",
              "      <td>2</td>\n",
              "      <td>608</td>\n",
              "      <td>TA</td>\n",
              "      <td>TA</td>\n",
              "      <td>Y</td>\n",
              "      <td>0</td>\n",
              "      <td>42</td>\n",
              "      <td>0</td>\n",
              "      <td>0</td>\n",
              "      <td>0</td>\n",
              "      <td>0</td>\n",
              "      <td>NaN</td>\n",
              "      <td>NaN</td>\n",
              "      <td>NaN</td>\n",
              "      <td>0</td>\n",
              "      <td>9</td>\n",
              "      <td>2008</td>\n",
              "      <td>WD</td>\n",
              "      <td>Normal</td>\n",
              "      <td>223500</td>\n",
              "    </tr>\n",
              "    <tr>\n",
              "      <th>3</th>\n",
              "      <td>4</td>\n",
              "      <td>70</td>\n",
              "      <td>RL</td>\n",
              "      <td>60.000</td>\n",
              "      <td>9550</td>\n",
              "      <td>Pave</td>\n",
              "      <td>NaN</td>\n",
              "      <td>IR1</td>\n",
              "      <td>Lvl</td>\n",
              "      <td>AllPub</td>\n",
              "      <td>Corner</td>\n",
              "      <td>Gtl</td>\n",
              "      <td>Crawfor</td>\n",
              "      <td>Norm</td>\n",
              "      <td>Norm</td>\n",
              "      <td>1Fam</td>\n",
              "      <td>2Story</td>\n",
              "      <td>7</td>\n",
              "      <td>5</td>\n",
              "      <td>1915</td>\n",
              "      <td>1970</td>\n",
              "      <td>Gable</td>\n",
              "      <td>CompShg</td>\n",
              "      <td>Wd Sdng</td>\n",
              "      <td>Wd Shng</td>\n",
              "      <td>None</td>\n",
              "      <td>0.000</td>\n",
              "      <td>TA</td>\n",
              "      <td>TA</td>\n",
              "      <td>BrkTil</td>\n",
              "      <td>TA</td>\n",
              "      <td>Gd</td>\n",
              "      <td>No</td>\n",
              "      <td>ALQ</td>\n",
              "      <td>216</td>\n",
              "      <td>Unf</td>\n",
              "      <td>0</td>\n",
              "      <td>540</td>\n",
              "      <td>756</td>\n",
              "      <td>GasA</td>\n",
              "      <td>...</td>\n",
              "      <td>Y</td>\n",
              "      <td>SBrkr</td>\n",
              "      <td>961</td>\n",
              "      <td>756</td>\n",
              "      <td>0</td>\n",
              "      <td>1717</td>\n",
              "      <td>1</td>\n",
              "      <td>0</td>\n",
              "      <td>1</td>\n",
              "      <td>0</td>\n",
              "      <td>3</td>\n",
              "      <td>1</td>\n",
              "      <td>Gd</td>\n",
              "      <td>7</td>\n",
              "      <td>Typ</td>\n",
              "      <td>1</td>\n",
              "      <td>Gd</td>\n",
              "      <td>Detchd</td>\n",
              "      <td>1998.000</td>\n",
              "      <td>Unf</td>\n",
              "      <td>3</td>\n",
              "      <td>642</td>\n",
              "      <td>TA</td>\n",
              "      <td>TA</td>\n",
              "      <td>Y</td>\n",
              "      <td>0</td>\n",
              "      <td>35</td>\n",
              "      <td>272</td>\n",
              "      <td>0</td>\n",
              "      <td>0</td>\n",
              "      <td>0</td>\n",
              "      <td>NaN</td>\n",
              "      <td>NaN</td>\n",
              "      <td>NaN</td>\n",
              "      <td>0</td>\n",
              "      <td>2</td>\n",
              "      <td>2006</td>\n",
              "      <td>WD</td>\n",
              "      <td>Abnorml</td>\n",
              "      <td>140000</td>\n",
              "    </tr>\n",
              "    <tr>\n",
              "      <th>4</th>\n",
              "      <td>5</td>\n",
              "      <td>60</td>\n",
              "      <td>RL</td>\n",
              "      <td>84.000</td>\n",
              "      <td>14260</td>\n",
              "      <td>Pave</td>\n",
              "      <td>NaN</td>\n",
              "      <td>IR1</td>\n",
              "      <td>Lvl</td>\n",
              "      <td>AllPub</td>\n",
              "      <td>FR2</td>\n",
              "      <td>Gtl</td>\n",
              "      <td>NoRidge</td>\n",
              "      <td>Norm</td>\n",
              "      <td>Norm</td>\n",
              "      <td>1Fam</td>\n",
              "      <td>2Story</td>\n",
              "      <td>8</td>\n",
              "      <td>5</td>\n",
              "      <td>2000</td>\n",
              "      <td>2000</td>\n",
              "      <td>Gable</td>\n",
              "      <td>CompShg</td>\n",
              "      <td>VinylSd</td>\n",
              "      <td>VinylSd</td>\n",
              "      <td>BrkFace</td>\n",
              "      <td>350.000</td>\n",
              "      <td>Gd</td>\n",
              "      <td>TA</td>\n",
              "      <td>PConc</td>\n",
              "      <td>Gd</td>\n",
              "      <td>TA</td>\n",
              "      <td>Av</td>\n",
              "      <td>GLQ</td>\n",
              "      <td>655</td>\n",
              "      <td>Unf</td>\n",
              "      <td>0</td>\n",
              "      <td>490</td>\n",
              "      <td>1145</td>\n",
              "      <td>GasA</td>\n",
              "      <td>...</td>\n",
              "      <td>Y</td>\n",
              "      <td>SBrkr</td>\n",
              "      <td>1145</td>\n",
              "      <td>1053</td>\n",
              "      <td>0</td>\n",
              "      <td>2198</td>\n",
              "      <td>1</td>\n",
              "      <td>0</td>\n",
              "      <td>2</td>\n",
              "      <td>1</td>\n",
              "      <td>4</td>\n",
              "      <td>1</td>\n",
              "      <td>Gd</td>\n",
              "      <td>9</td>\n",
              "      <td>Typ</td>\n",
              "      <td>1</td>\n",
              "      <td>TA</td>\n",
              "      <td>Attchd</td>\n",
              "      <td>2000.000</td>\n",
              "      <td>RFn</td>\n",
              "      <td>3</td>\n",
              "      <td>836</td>\n",
              "      <td>TA</td>\n",
              "      <td>TA</td>\n",
              "      <td>Y</td>\n",
              "      <td>192</td>\n",
              "      <td>84</td>\n",
              "      <td>0</td>\n",
              "      <td>0</td>\n",
              "      <td>0</td>\n",
              "      <td>0</td>\n",
              "      <td>NaN</td>\n",
              "      <td>NaN</td>\n",
              "      <td>NaN</td>\n",
              "      <td>0</td>\n",
              "      <td>12</td>\n",
              "      <td>2008</td>\n",
              "      <td>WD</td>\n",
              "      <td>Normal</td>\n",
              "      <td>250000</td>\n",
              "    </tr>\n",
              "  </tbody>\n",
              "</table>\n",
              "<p>5 rows × 81 columns</p>\n",
              "</div>"
            ],
            "text/plain": [
              "   Id  MSSubClass MSZoning  ...  SaleType  SaleCondition SalePrice\n",
              "0   1          60       RL  ...        WD         Normal    208500\n",
              "1   2          20       RL  ...        WD         Normal    181500\n",
              "2   3          60       RL  ...        WD         Normal    223500\n",
              "3   4          70       RL  ...        WD        Abnorml    140000\n",
              "4   5          60       RL  ...        WD         Normal    250000\n",
              "\n",
              "[5 rows x 81 columns]"
            ]
          },
          "metadata": {
            "tags": []
          },
          "execution_count": 8
        }
      ]
    },
    {
      "cell_type": "code",
      "metadata": {
        "_cell_guid": "ff37c1ba-8679-49e0-b3c8-9c53d01b1b04",
        "_execution_state": "idle",
        "_uuid": "816b1463b3dd0daf44949a1fa15ebfbc0e2f1235",
        "collapsed": true,
        "id": "kGsJLYbxmbRN",
        "colab": {
          "base_uri": "https://localhost:8080/",
          "height": 215
        },
        "outputId": "0e182931-b84c-4796-f4e5-d34336ec69f0"
      },
      "source": [
        "##display the first five rows of the test dataset.\n",
        "test.head(5)\n"
      ],
      "execution_count": null,
      "outputs": [
        {
          "output_type": "execute_result",
          "data": {
            "text/html": [
              "<div>\n",
              "<style scoped>\n",
              "    .dataframe tbody tr th:only-of-type {\n",
              "        vertical-align: middle;\n",
              "    }\n",
              "\n",
              "    .dataframe tbody tr th {\n",
              "        vertical-align: top;\n",
              "    }\n",
              "\n",
              "    .dataframe thead th {\n",
              "        text-align: right;\n",
              "    }\n",
              "</style>\n",
              "<table border=\"1\" class=\"dataframe\">\n",
              "  <thead>\n",
              "    <tr style=\"text-align: right;\">\n",
              "      <th></th>\n",
              "      <th>Id</th>\n",
              "      <th>MSSubClass</th>\n",
              "      <th>MSZoning</th>\n",
              "      <th>LotFrontage</th>\n",
              "      <th>LotArea</th>\n",
              "      <th>Street</th>\n",
              "      <th>Alley</th>\n",
              "      <th>LotShape</th>\n",
              "      <th>LandContour</th>\n",
              "      <th>Utilities</th>\n",
              "      <th>LotConfig</th>\n",
              "      <th>LandSlope</th>\n",
              "      <th>Neighborhood</th>\n",
              "      <th>Condition1</th>\n",
              "      <th>Condition2</th>\n",
              "      <th>BldgType</th>\n",
              "      <th>HouseStyle</th>\n",
              "      <th>OverallQual</th>\n",
              "      <th>OverallCond</th>\n",
              "      <th>YearBuilt</th>\n",
              "      <th>YearRemodAdd</th>\n",
              "      <th>RoofStyle</th>\n",
              "      <th>RoofMatl</th>\n",
              "      <th>Exterior1st</th>\n",
              "      <th>Exterior2nd</th>\n",
              "      <th>MasVnrType</th>\n",
              "      <th>MasVnrArea</th>\n",
              "      <th>ExterQual</th>\n",
              "      <th>ExterCond</th>\n",
              "      <th>Foundation</th>\n",
              "      <th>BsmtQual</th>\n",
              "      <th>BsmtCond</th>\n",
              "      <th>BsmtExposure</th>\n",
              "      <th>BsmtFinType1</th>\n",
              "      <th>BsmtFinSF1</th>\n",
              "      <th>BsmtFinType2</th>\n",
              "      <th>BsmtFinSF2</th>\n",
              "      <th>BsmtUnfSF</th>\n",
              "      <th>TotalBsmtSF</th>\n",
              "      <th>Heating</th>\n",
              "      <th>HeatingQC</th>\n",
              "      <th>CentralAir</th>\n",
              "      <th>Electrical</th>\n",
              "      <th>1stFlrSF</th>\n",
              "      <th>2ndFlrSF</th>\n",
              "      <th>LowQualFinSF</th>\n",
              "      <th>GrLivArea</th>\n",
              "      <th>BsmtFullBath</th>\n",
              "      <th>BsmtHalfBath</th>\n",
              "      <th>FullBath</th>\n",
              "      <th>HalfBath</th>\n",
              "      <th>BedroomAbvGr</th>\n",
              "      <th>KitchenAbvGr</th>\n",
              "      <th>KitchenQual</th>\n",
              "      <th>TotRmsAbvGrd</th>\n",
              "      <th>Functional</th>\n",
              "      <th>Fireplaces</th>\n",
              "      <th>FireplaceQu</th>\n",
              "      <th>GarageType</th>\n",
              "      <th>GarageYrBlt</th>\n",
              "      <th>GarageFinish</th>\n",
              "      <th>GarageCars</th>\n",
              "      <th>GarageArea</th>\n",
              "      <th>GarageQual</th>\n",
              "      <th>GarageCond</th>\n",
              "      <th>PavedDrive</th>\n",
              "      <th>WoodDeckSF</th>\n",
              "      <th>OpenPorchSF</th>\n",
              "      <th>EnclosedPorch</th>\n",
              "      <th>3SsnPorch</th>\n",
              "      <th>ScreenPorch</th>\n",
              "      <th>PoolArea</th>\n",
              "      <th>PoolQC</th>\n",
              "      <th>Fence</th>\n",
              "      <th>MiscFeature</th>\n",
              "      <th>MiscVal</th>\n",
              "      <th>MoSold</th>\n",
              "      <th>YrSold</th>\n",
              "      <th>SaleType</th>\n",
              "      <th>SaleCondition</th>\n",
              "    </tr>\n",
              "  </thead>\n",
              "  <tbody>\n",
              "    <tr>\n",
              "      <th>0</th>\n",
              "      <td>1461</td>\n",
              "      <td>20</td>\n",
              "      <td>RH</td>\n",
              "      <td>80.000</td>\n",
              "      <td>11622</td>\n",
              "      <td>Pave</td>\n",
              "      <td>NaN</td>\n",
              "      <td>Reg</td>\n",
              "      <td>Lvl</td>\n",
              "      <td>AllPub</td>\n",
              "      <td>Inside</td>\n",
              "      <td>Gtl</td>\n",
              "      <td>NAmes</td>\n",
              "      <td>Feedr</td>\n",
              "      <td>Norm</td>\n",
              "      <td>1Fam</td>\n",
              "      <td>1Story</td>\n",
              "      <td>5</td>\n",
              "      <td>6</td>\n",
              "      <td>1961</td>\n",
              "      <td>1961</td>\n",
              "      <td>Gable</td>\n",
              "      <td>CompShg</td>\n",
              "      <td>VinylSd</td>\n",
              "      <td>VinylSd</td>\n",
              "      <td>None</td>\n",
              "      <td>0.000</td>\n",
              "      <td>TA</td>\n",
              "      <td>TA</td>\n",
              "      <td>CBlock</td>\n",
              "      <td>TA</td>\n",
              "      <td>TA</td>\n",
              "      <td>No</td>\n",
              "      <td>Rec</td>\n",
              "      <td>468.000</td>\n",
              "      <td>LwQ</td>\n",
              "      <td>144.000</td>\n",
              "      <td>270.000</td>\n",
              "      <td>882.000</td>\n",
              "      <td>GasA</td>\n",
              "      <td>TA</td>\n",
              "      <td>Y</td>\n",
              "      <td>SBrkr</td>\n",
              "      <td>896</td>\n",
              "      <td>0</td>\n",
              "      <td>0</td>\n",
              "      <td>896</td>\n",
              "      <td>0.000</td>\n",
              "      <td>0.000</td>\n",
              "      <td>1</td>\n",
              "      <td>0</td>\n",
              "      <td>2</td>\n",
              "      <td>1</td>\n",
              "      <td>TA</td>\n",
              "      <td>5</td>\n",
              "      <td>Typ</td>\n",
              "      <td>0</td>\n",
              "      <td>NaN</td>\n",
              "      <td>Attchd</td>\n",
              "      <td>1961.000</td>\n",
              "      <td>Unf</td>\n",
              "      <td>1.000</td>\n",
              "      <td>730.000</td>\n",
              "      <td>TA</td>\n",
              "      <td>TA</td>\n",
              "      <td>Y</td>\n",
              "      <td>140</td>\n",
              "      <td>0</td>\n",
              "      <td>0</td>\n",
              "      <td>0</td>\n",
              "      <td>120</td>\n",
              "      <td>0</td>\n",
              "      <td>NaN</td>\n",
              "      <td>MnPrv</td>\n",
              "      <td>NaN</td>\n",
              "      <td>0</td>\n",
              "      <td>6</td>\n",
              "      <td>2010</td>\n",
              "      <td>WD</td>\n",
              "      <td>Normal</td>\n",
              "    </tr>\n",
              "    <tr>\n",
              "      <th>1</th>\n",
              "      <td>1462</td>\n",
              "      <td>20</td>\n",
              "      <td>RL</td>\n",
              "      <td>81.000</td>\n",
              "      <td>14267</td>\n",
              "      <td>Pave</td>\n",
              "      <td>NaN</td>\n",
              "      <td>IR1</td>\n",
              "      <td>Lvl</td>\n",
              "      <td>AllPub</td>\n",
              "      <td>Corner</td>\n",
              "      <td>Gtl</td>\n",
              "      <td>NAmes</td>\n",
              "      <td>Norm</td>\n",
              "      <td>Norm</td>\n",
              "      <td>1Fam</td>\n",
              "      <td>1Story</td>\n",
              "      <td>6</td>\n",
              "      <td>6</td>\n",
              "      <td>1958</td>\n",
              "      <td>1958</td>\n",
              "      <td>Hip</td>\n",
              "      <td>CompShg</td>\n",
              "      <td>Wd Sdng</td>\n",
              "      <td>Wd Sdng</td>\n",
              "      <td>BrkFace</td>\n",
              "      <td>108.000</td>\n",
              "      <td>TA</td>\n",
              "      <td>TA</td>\n",
              "      <td>CBlock</td>\n",
              "      <td>TA</td>\n",
              "      <td>TA</td>\n",
              "      <td>No</td>\n",
              "      <td>ALQ</td>\n",
              "      <td>923.000</td>\n",
              "      <td>Unf</td>\n",
              "      <td>0.000</td>\n",
              "      <td>406.000</td>\n",
              "      <td>1329.000</td>\n",
              "      <td>GasA</td>\n",
              "      <td>TA</td>\n",
              "      <td>Y</td>\n",
              "      <td>SBrkr</td>\n",
              "      <td>1329</td>\n",
              "      <td>0</td>\n",
              "      <td>0</td>\n",
              "      <td>1329</td>\n",
              "      <td>0.000</td>\n",
              "      <td>0.000</td>\n",
              "      <td>1</td>\n",
              "      <td>1</td>\n",
              "      <td>3</td>\n",
              "      <td>1</td>\n",
              "      <td>Gd</td>\n",
              "      <td>6</td>\n",
              "      <td>Typ</td>\n",
              "      <td>0</td>\n",
              "      <td>NaN</td>\n",
              "      <td>Attchd</td>\n",
              "      <td>1958.000</td>\n",
              "      <td>Unf</td>\n",
              "      <td>1.000</td>\n",
              "      <td>312.000</td>\n",
              "      <td>TA</td>\n",
              "      <td>TA</td>\n",
              "      <td>Y</td>\n",
              "      <td>393</td>\n",
              "      <td>36</td>\n",
              "      <td>0</td>\n",
              "      <td>0</td>\n",
              "      <td>0</td>\n",
              "      <td>0</td>\n",
              "      <td>NaN</td>\n",
              "      <td>NaN</td>\n",
              "      <td>Gar2</td>\n",
              "      <td>12500</td>\n",
              "      <td>6</td>\n",
              "      <td>2010</td>\n",
              "      <td>WD</td>\n",
              "      <td>Normal</td>\n",
              "    </tr>\n",
              "    <tr>\n",
              "      <th>2</th>\n",
              "      <td>1463</td>\n",
              "      <td>60</td>\n",
              "      <td>RL</td>\n",
              "      <td>74.000</td>\n",
              "      <td>13830</td>\n",
              "      <td>Pave</td>\n",
              "      <td>NaN</td>\n",
              "      <td>IR1</td>\n",
              "      <td>Lvl</td>\n",
              "      <td>AllPub</td>\n",
              "      <td>Inside</td>\n",
              "      <td>Gtl</td>\n",
              "      <td>Gilbert</td>\n",
              "      <td>Norm</td>\n",
              "      <td>Norm</td>\n",
              "      <td>1Fam</td>\n",
              "      <td>2Story</td>\n",
              "      <td>5</td>\n",
              "      <td>5</td>\n",
              "      <td>1997</td>\n",
              "      <td>1998</td>\n",
              "      <td>Gable</td>\n",
              "      <td>CompShg</td>\n",
              "      <td>VinylSd</td>\n",
              "      <td>VinylSd</td>\n",
              "      <td>None</td>\n",
              "      <td>0.000</td>\n",
              "      <td>TA</td>\n",
              "      <td>TA</td>\n",
              "      <td>PConc</td>\n",
              "      <td>Gd</td>\n",
              "      <td>TA</td>\n",
              "      <td>No</td>\n",
              "      <td>GLQ</td>\n",
              "      <td>791.000</td>\n",
              "      <td>Unf</td>\n",
              "      <td>0.000</td>\n",
              "      <td>137.000</td>\n",
              "      <td>928.000</td>\n",
              "      <td>GasA</td>\n",
              "      <td>Gd</td>\n",
              "      <td>Y</td>\n",
              "      <td>SBrkr</td>\n",
              "      <td>928</td>\n",
              "      <td>701</td>\n",
              "      <td>0</td>\n",
              "      <td>1629</td>\n",
              "      <td>0.000</td>\n",
              "      <td>0.000</td>\n",
              "      <td>2</td>\n",
              "      <td>1</td>\n",
              "      <td>3</td>\n",
              "      <td>1</td>\n",
              "      <td>TA</td>\n",
              "      <td>6</td>\n",
              "      <td>Typ</td>\n",
              "      <td>1</td>\n",
              "      <td>TA</td>\n",
              "      <td>Attchd</td>\n",
              "      <td>1997.000</td>\n",
              "      <td>Fin</td>\n",
              "      <td>2.000</td>\n",
              "      <td>482.000</td>\n",
              "      <td>TA</td>\n",
              "      <td>TA</td>\n",
              "      <td>Y</td>\n",
              "      <td>212</td>\n",
              "      <td>34</td>\n",
              "      <td>0</td>\n",
              "      <td>0</td>\n",
              "      <td>0</td>\n",
              "      <td>0</td>\n",
              "      <td>NaN</td>\n",
              "      <td>MnPrv</td>\n",
              "      <td>NaN</td>\n",
              "      <td>0</td>\n",
              "      <td>3</td>\n",
              "      <td>2010</td>\n",
              "      <td>WD</td>\n",
              "      <td>Normal</td>\n",
              "    </tr>\n",
              "    <tr>\n",
              "      <th>3</th>\n",
              "      <td>1464</td>\n",
              "      <td>60</td>\n",
              "      <td>RL</td>\n",
              "      <td>78.000</td>\n",
              "      <td>9978</td>\n",
              "      <td>Pave</td>\n",
              "      <td>NaN</td>\n",
              "      <td>IR1</td>\n",
              "      <td>Lvl</td>\n",
              "      <td>AllPub</td>\n",
              "      <td>Inside</td>\n",
              "      <td>Gtl</td>\n",
              "      <td>Gilbert</td>\n",
              "      <td>Norm</td>\n",
              "      <td>Norm</td>\n",
              "      <td>1Fam</td>\n",
              "      <td>2Story</td>\n",
              "      <td>6</td>\n",
              "      <td>6</td>\n",
              "      <td>1998</td>\n",
              "      <td>1998</td>\n",
              "      <td>Gable</td>\n",
              "      <td>CompShg</td>\n",
              "      <td>VinylSd</td>\n",
              "      <td>VinylSd</td>\n",
              "      <td>BrkFace</td>\n",
              "      <td>20.000</td>\n",
              "      <td>TA</td>\n",
              "      <td>TA</td>\n",
              "      <td>PConc</td>\n",
              "      <td>TA</td>\n",
              "      <td>TA</td>\n",
              "      <td>No</td>\n",
              "      <td>GLQ</td>\n",
              "      <td>602.000</td>\n",
              "      <td>Unf</td>\n",
              "      <td>0.000</td>\n",
              "      <td>324.000</td>\n",
              "      <td>926.000</td>\n",
              "      <td>GasA</td>\n",
              "      <td>Ex</td>\n",
              "      <td>Y</td>\n",
              "      <td>SBrkr</td>\n",
              "      <td>926</td>\n",
              "      <td>678</td>\n",
              "      <td>0</td>\n",
              "      <td>1604</td>\n",
              "      <td>0.000</td>\n",
              "      <td>0.000</td>\n",
              "      <td>2</td>\n",
              "      <td>1</td>\n",
              "      <td>3</td>\n",
              "      <td>1</td>\n",
              "      <td>Gd</td>\n",
              "      <td>7</td>\n",
              "      <td>Typ</td>\n",
              "      <td>1</td>\n",
              "      <td>Gd</td>\n",
              "      <td>Attchd</td>\n",
              "      <td>1998.000</td>\n",
              "      <td>Fin</td>\n",
              "      <td>2.000</td>\n",
              "      <td>470.000</td>\n",
              "      <td>TA</td>\n",
              "      <td>TA</td>\n",
              "      <td>Y</td>\n",
              "      <td>360</td>\n",
              "      <td>36</td>\n",
              "      <td>0</td>\n",
              "      <td>0</td>\n",
              "      <td>0</td>\n",
              "      <td>0</td>\n",
              "      <td>NaN</td>\n",
              "      <td>NaN</td>\n",
              "      <td>NaN</td>\n",
              "      <td>0</td>\n",
              "      <td>6</td>\n",
              "      <td>2010</td>\n",
              "      <td>WD</td>\n",
              "      <td>Normal</td>\n",
              "    </tr>\n",
              "    <tr>\n",
              "      <th>4</th>\n",
              "      <td>1465</td>\n",
              "      <td>120</td>\n",
              "      <td>RL</td>\n",
              "      <td>43.000</td>\n",
              "      <td>5005</td>\n",
              "      <td>Pave</td>\n",
              "      <td>NaN</td>\n",
              "      <td>IR1</td>\n",
              "      <td>HLS</td>\n",
              "      <td>AllPub</td>\n",
              "      <td>Inside</td>\n",
              "      <td>Gtl</td>\n",
              "      <td>StoneBr</td>\n",
              "      <td>Norm</td>\n",
              "      <td>Norm</td>\n",
              "      <td>TwnhsE</td>\n",
              "      <td>1Story</td>\n",
              "      <td>8</td>\n",
              "      <td>5</td>\n",
              "      <td>1992</td>\n",
              "      <td>1992</td>\n",
              "      <td>Gable</td>\n",
              "      <td>CompShg</td>\n",
              "      <td>HdBoard</td>\n",
              "      <td>HdBoard</td>\n",
              "      <td>None</td>\n",
              "      <td>0.000</td>\n",
              "      <td>Gd</td>\n",
              "      <td>TA</td>\n",
              "      <td>PConc</td>\n",
              "      <td>Gd</td>\n",
              "      <td>TA</td>\n",
              "      <td>No</td>\n",
              "      <td>ALQ</td>\n",
              "      <td>263.000</td>\n",
              "      <td>Unf</td>\n",
              "      <td>0.000</td>\n",
              "      <td>1017.000</td>\n",
              "      <td>1280.000</td>\n",
              "      <td>GasA</td>\n",
              "      <td>Ex</td>\n",
              "      <td>Y</td>\n",
              "      <td>SBrkr</td>\n",
              "      <td>1280</td>\n",
              "      <td>0</td>\n",
              "      <td>0</td>\n",
              "      <td>1280</td>\n",
              "      <td>0.000</td>\n",
              "      <td>0.000</td>\n",
              "      <td>2</td>\n",
              "      <td>0</td>\n",
              "      <td>2</td>\n",
              "      <td>1</td>\n",
              "      <td>Gd</td>\n",
              "      <td>5</td>\n",
              "      <td>Typ</td>\n",
              "      <td>0</td>\n",
              "      <td>NaN</td>\n",
              "      <td>Attchd</td>\n",
              "      <td>1992.000</td>\n",
              "      <td>RFn</td>\n",
              "      <td>2.000</td>\n",
              "      <td>506.000</td>\n",
              "      <td>TA</td>\n",
              "      <td>TA</td>\n",
              "      <td>Y</td>\n",
              "      <td>0</td>\n",
              "      <td>82</td>\n",
              "      <td>0</td>\n",
              "      <td>0</td>\n",
              "      <td>144</td>\n",
              "      <td>0</td>\n",
              "      <td>NaN</td>\n",
              "      <td>NaN</td>\n",
              "      <td>NaN</td>\n",
              "      <td>0</td>\n",
              "      <td>1</td>\n",
              "      <td>2010</td>\n",
              "      <td>WD</td>\n",
              "      <td>Normal</td>\n",
              "    </tr>\n",
              "  </tbody>\n",
              "</table>\n",
              "</div>"
            ],
            "text/plain": [
              "     Id  MSSubClass MSZoning  ...  YrSold  SaleType SaleCondition\n",
              "0  1461          20       RH  ...    2010        WD        Normal\n",
              "1  1462          20       RL  ...    2010        WD        Normal\n",
              "2  1463          60       RL  ...    2010        WD        Normal\n",
              "3  1464          60       RL  ...    2010        WD        Normal\n",
              "4  1465         120       RL  ...    2010        WD        Normal\n",
              "\n",
              "[5 rows x 80 columns]"
            ]
          },
          "metadata": {
            "tags": []
          },
          "execution_count": 9
        }
      ]
    },
    {
      "cell_type": "code",
      "metadata": {
        "_cell_guid": "b24451a1-fb8c-4094-ad0b-0940469d07fc",
        "_execution_state": "idle",
        "_uuid": "687813c270cbfdedccc7a9e4ec9fbb78a99d54ed",
        "collapsed": true,
        "id": "G-iS5Ev-mbRV",
        "colab": {
          "base_uri": "https://localhost:8080/",
          "height": 101
        },
        "outputId": "d54c04f3-3a1a-458e-b96e-9a0d83e196da"
      },
      "source": [
        "#check the numbers of samples and features\n",
        "print(\"The train data size before dropping Id feature is : {} \".format(train.shape))\n",
        "print(\"The test data size before dropping Id feature is : {} \".format(test.shape))\n",
        "\n",
        "#Save the 'Id' column\n",
        "train_ID = train['Id']\n",
        "test_ID = test['Id']\n",
        "\n",
        "#Now drop the  'Id' colum since it's unnecessary for  the prediction process.\n",
        "train.drop(\"Id\", axis = 1, inplace = True)\n",
        "test.drop(\"Id\", axis = 1, inplace = True)\n",
        "\n",
        "#check again the data size after dropping the 'Id' variable\n",
        "print(\"\\nThe train data size after dropping Id feature is : {} \".format(train.shape)) \n",
        "print(\"The test data size after dropping Id feature is : {} \".format(test.shape))"
      ],
      "execution_count": null,
      "outputs": [
        {
          "output_type": "stream",
          "text": [
            "The train data size before dropping Id feature is : (1460, 81) \n",
            "The test data size before dropping Id feature is : (1459, 80) \n",
            "\n",
            "The train data size after dropping Id feature is : (1460, 80) \n",
            "The test data size after dropping Id feature is : (1459, 79) \n"
          ],
          "name": "stdout"
        }
      ]
    },
    {
      "cell_type": "markdown",
      "metadata": {
        "_cell_guid": "7d5829c4-b2f1-4ef3-8b02-11f02eb7aabf",
        "_execution_state": "idle",
        "_uuid": "228cb602f1c7a47d3c5250514cab57f7e7bc75e5",
        "id": "gyHWHgO4mbRa"
      },
      "source": [
        "#Data Processing"
      ]
    },
    {
      "cell_type": "markdown",
      "metadata": {
        "_cell_guid": "993f8fc0-1f5a-4432-80bc-6024b7bbc855",
        "_execution_state": "idle",
        "_uuid": "21bab04b0e0a451c912695d9238bf8304fc009d4",
        "id": "0zXnN5S8mbRb"
      },
      "source": [
        "##Outliers"
      ]
    },
    {
      "cell_type": "markdown",
      "metadata": {
        "_cell_guid": "2b19b08e-b8bf-44b0-b83d-ee3efd0b833e",
        "_execution_state": "idle",
        "_uuid": "70fc7612c38957f7418d03a409ff8bae21d522a9",
        "id": "Dh8e-f4BmbRb"
      },
      "source": [
        "[Documentation][1] for the Ames Housing Data indicates that there are outliers present in the training data\n",
        "[1]: http://ww2.amstat.org/publications/jse/v19n3/Decock/DataDocumentation.txt"
      ]
    },
    {
      "cell_type": "markdown",
      "metadata": {
        "_cell_guid": "465043f2-d687-4b1f-a6b4-1036859dfeb0",
        "_execution_state": "idle",
        "_uuid": "32b12bca723c5e867f7d7a7e179ff934a5fcdf30",
        "id": "ydIwdOMumbRc"
      },
      "source": [
        "Let's explore these outliers\n"
      ]
    },
    {
      "cell_type": "code",
      "metadata": {
        "_cell_guid": "637bd0fd-7508-41d1-b240-ea0e8598dddf",
        "_execution_state": "idle",
        "_uuid": "8903aa1a4a700aa2160edb3baf806f3800ae7d9a",
        "collapsed": true,
        "id": "kYSaEuALmbRd",
        "colab": {
          "base_uri": "https://localhost:8080/",
          "height": 282
        },
        "outputId": "6ea247e9-c8ab-4442-d9f2-782b28e746db"
      },
      "source": [
        "\n",
        "fig, ax = plt.subplots()\n",
        "ax.scatter(x = train['GrLivArea'], y = train['SalePrice'])\n",
        "plt.ylabel('SalePrice', fontsize=13)\n",
        "plt.xlabel('GrLivArea', fontsize=13)\n",
        "plt.show()\n"
      ],
      "execution_count": null,
      "outputs": [
        {
          "output_type": "display_data",
          "data": {
            "image/png": "[encoded data removed]",
            "text/plain": [
              "<Figure size 432x288 with 1 Axes>"
            ]
          },
          "metadata": {
            "tags": []
          }
        }
      ]
    },
    {
      "cell_type": "markdown",
      "metadata": {
        "_cell_guid": "30304b82-5846-4142-bc31-b629158fb040",
        "_execution_state": "idle",
        "_uuid": "edf186dc5169e450392ee8f809cc3de5d10d7dbd",
        "id": "Uzh1j1UcmbRm"
      },
      "source": [
        "We can see at the bottom right two with extremely large GrLivArea that are of a low price. These values are huge oultliers.\n",
        "Therefore, we can safely delete them."
      ]
    },
    {
      "cell_type": "code",
      "metadata": {
        "_cell_guid": "6c5780b2-d4a8-42d9-b902-c6a23eef7d99",
        "_execution_state": "idle",
        "_uuid": "583bb417102d7bebb4aaf14bcb1aebcae86443bb",
        "collapsed": true,
        "id": "fEbphQHOmbRn",
        "colab": {
          "base_uri": "https://localhost:8080/",
          "height": 282
        },
        "outputId": "1fad3d30-de07-4eef-8b56-d7edb227cacc"
      },
      "source": [
        "#Deleting outliers\n",
        "train = train.drop(train[(train['GrLivArea']>4000) & (train['SalePrice']<300000)].index)\n",
        "\n",
        "#Check the graphic again\n",
        "fig, ax = plt.subplots()\n",
        "ax.scatter(train['GrLivArea'], train['SalePrice'])\n",
        "plt.ylabel('SalePrice', fontsize=13)\n",
        "plt.xlabel('GrLivArea', fontsize=13)\n",
        "plt.show()"
      ],
      "execution_count": null,
      "outputs": [
        {
          "output_type": "display_data",
          "data": {
            "image/png": "[encoded data removed]",
            "text/plain": [
              "<Figure size 432x288 with 1 Axes>"
            ]
          },
          "metadata": {
            "tags": []
          }
        }
      ]
    },
    {
      "cell_type": "markdown",
      "metadata": {
        "_cell_guid": "e24be1ff-e186-4d0f-9ba1-64195c0eec4d",
        "_execution_state": "idle",
        "_uuid": "0f186c5806f14de1e9ea46ece78a4bed2a6830a7",
        "id": "FuImM_ltmbRt"
      },
      "source": [
        "###Note : \n",
        " Outliers removal is note always safe.  We decided to delete these two as they are very huge and  really  bad ( extremely large areas for very low  prices). \n",
        "\n",
        "There are probably others outliers in the training data.   However, removing all them  may affect badly our models if ever there were also  outliers  in the test data. That's why , instead of removing them all, we will just manage to make some of our  models robust on them. You can refer to  the modelling part of this notebook for that. "
      ]
    },
    {
      "cell_type": "markdown",
      "metadata": {
        "_cell_guid": "f4dcb348-634e-4010-b0a1-27976a1d8353",
        "_execution_state": "idle",
        "_uuid": "886ad7c816f4c1fd9afda53b10990baf987e86d8",
        "id": "Wn7rglpkmbRu"
      },
      "source": [
        "##Target Variable"
      ]
    },
    {
      "cell_type": "markdown",
      "metadata": {
        "_cell_guid": "658f5b56-5830-486c-81a0-8514fb95e274",
        "_execution_state": "idle",
        "_uuid": "4b96a6a35983d1c765c11c929bcd32effd105b43",
        "id": "QN_2djwrmbRw"
      },
      "source": [
        "**SalePrice** is the variable we need to predict. So let's do some analysis on this variable first."
      ]
    },
    {
      "cell_type": "code",
      "metadata": {
        "_cell_guid": "a17ad845-6fca-4d47-8e44-7c4c44f0427d",
        "_execution_state": "idle",
        "_uuid": "be3b0157031685ed3dbc31a657ba712312691830",
        "collapsed": true,
        "id": "4MZKuvnZmbRy",
        "colab": {
          "base_uri": "https://localhost:8080/",
          "height": 623
        },
        "outputId": "3db33f85-9e7f-45d9-85f4-88a28e0ba3dd"
      },
      "source": [
        "sns.distplot(train['SalePrice'] , fit=norm);\n",
        "\n",
        "# Get the fitted parameters used by the function\n",
        "(mu, sigma) = norm.fit(train['SalePrice'])\n",
        "print( '\\n mu = {:.2f} and sigma = {:.2f}\\n'.format(mu, sigma))\n",
        "\n",
        "#Now plot the distribution\n",
        "plt.legend(['Normal dist. ($\\mu=$ {:.2f} and $\\sigma=$ {:.2f} )'.format(mu, sigma)],\n",
        "            loc='best')\n",
        "plt.ylabel('Frequency')\n",
        "plt.title('SalePrice distribution')\n",
        "\n",
        "#Get also the QQ-plot\n",
        "fig = plt.figure()\n",
        "res = stats.probplot(train['SalePrice'], plot=plt)\n",
        "plt.show()"
      ],
      "execution_count": null,
      "outputs": [
        {
          "output_type": "stream",
          "text": [
            "\n",
            " mu = 180932.92 and sigma = 79467.79\n",
            "\n"
          ],
          "name": "stdout"
        },
        {
          "output_type": "display_data",
          "data": {
            "image/png": "[encoded data removed]",
            "text/plain": [
              "<Figure size 432x288 with 1 Axes>"
            ]
          },
          "metadata": {
            "tags": []
          }
        },
        {
          "output_type": "display_data",
          "data": {
            "image/png": "[encoded data removed]",
            "text/plain": [
              "<Figure size 432x288 with 1 Axes>"
            ]
          },
          "metadata": {
            "tags": []
          }
        }
      ]
    },
    {
      "cell_type": "markdown",
      "metadata": {
        "_cell_guid": "313a535c-86c4-4db5-96de-6f65bc4adc2f",
        "_execution_state": "idle",
        "_uuid": "1da2d9831ae6c94b3f6304185f02896a9ee40aa5",
        "id": "TdZ7cy9fmbR3"
      },
      "source": [
        "The target variable is right skewed.  As (linear) models love normally distributed data , we need to transform this variable and make it more normally distributed."
      ]
    },
    {
      "cell_type": "code",
      "metadata": {
        "id": "hK7w94eWgfPg",
        "colab": {
          "base_uri": "https://localhost:8080/",
          "height": 34
        },
        "outputId": "da11e35e-350a-4b1f-eff8-7c1b4ffb6718"
      },
      "source": [
        "print(skew(train['SalePrice']))"
      ],
      "execution_count": null,
      "outputs": [
        {
          "output_type": "stream",
          "text": [
            "0.12145464268184528\n"
          ],
          "name": "stdout"
        }
      ]
    },
    {
      "cell_type": "markdown",
      "metadata": {
        "_cell_guid": "8df72eef-77de-4a71-aa6a-4b91784a7232",
        "_execution_state": "idle",
        "_uuid": "421775277fdab4e5a05f74aa4ea92e712a743928",
        "id": "LkLjbmLombR4"
      },
      "source": [
        " **Log-transformation of the target variable**"
      ]
    },
    {
      "cell_type": "code",
      "metadata": {
        "_cell_guid": "21b3a0ad-bd68-49aa-a3d7-40a30b3c59dc",
        "_execution_state": "idle",
        "_uuid": "719cf6a9dca56cc529e97af21816d291fa8bd8c0",
        "collapsed": true,
        "id": "f5NFaj81mbR5",
        "colab": {
          "base_uri": "https://localhost:8080/",
          "height": 623
        },
        "outputId": "5cd790a0-f650-4d7a-d841-20f4afebfe5c"
      },
      "source": [
        "#We use the numpy fuction log1p which  applies log(1+x) to all elements of the column\n",
        "train[\"SalePrice\"] = np.log1p(train[\"SalePrice\"])\n",
        "\n",
        "#Check the new distribution \n",
        "sns.distplot(train['SalePrice'] , fit=norm);\n",
        "\n",
        "# Get the fitted parameters used by the function\n",
        "(mu, sigma) = norm.fit(train['SalePrice'])\n",
        "print( '\\n mu = {:.2f} and sigma = {:.2f}\\n'.format(mu, sigma))\n",
        "\n",
        "#Now plot the distribution\n",
        "plt.legend(['Normal dist. ($\\mu=$ {:.2f} and $\\sigma=$ {:.2f} )'.format(mu, sigma)],\n",
        "            loc='best')\n",
        "plt.ylabel('Frequency')\n",
        "plt.title('SalePrice distribution')\n",
        "\n",
        "#Get also the QQ-plot\n",
        "fig = plt.figure()\n",
        "res = stats.probplot(train['SalePrice'], plot=plt)\n",
        "plt.show()\n"
      ],
      "execution_count": null,
      "outputs": [
        {
          "output_type": "stream",
          "text": [
            "\n",
            " mu = 12.02 and sigma = 0.40\n",
            "\n"
          ],
          "name": "stdout"
        },
        {
          "output_type": "display_data",
          "data": {
            "image/png": "[encoded data removed]",
            "text/plain": [
              "<Figure size 432x288 with 1 Axes>"
            ]
          },
          "metadata": {
            "tags": []
          }
        },
        {
          "output_type": "display_data",
          "data": {
            "image/png": "[encoded data removed]",
            "text/plain": [
              "<Figure size 432x288 with 1 Axes>"
            ]
          },
          "metadata": {
            "tags": []
          }
        }
      ]
    },
    {
      "cell_type": "markdown",
      "metadata": {
        "_cell_guid": "51620309-727a-4445-a96a-d9851880d31f",
        "_execution_state": "idle",
        "_uuid": "991e699566f4292490fda326703baa33ce09173f",
        "id": "GrAO_eCPmbR9"
      },
      "source": [
        "The skew seems now corrected and the data appears more normally distributed. "
      ]
    },
    {
      "cell_type": "markdown",
      "metadata": {
        "_cell_guid": "802df76d-0e0b-4868-ba16-91335568d2d7",
        "_execution_state": "idle",
        "_uuid": "827a86d65c6d176f4af55224b91b44a47966652d",
        "id": "JjrDCMYFmbR_"
      },
      "source": [
        "##Features engineering"
      ]
    },
    {
      "cell_type": "markdown",
      "metadata": {
        "_cell_guid": "a5ad11e4-0388-417c-bf77-cc7752f4c5a0",
        "_execution_state": "idle",
        "_uuid": "5fc214fb6df16c026dec0dfcb99af1c1b7744b56",
        "id": "2p4Fwd4KmbSB"
      },
      "source": [
        "let's first  concatenate the train and test data in the same dataframe"
      ]
    },
    {
      "cell_type": "code",
      "metadata": {
        "_cell_guid": "1bd3e9b9-2f42-4251-aadd-5ced84eb1a27",
        "_execution_state": "idle",
        "_uuid": "efc576211e4eed962f04cd94d901c667e6912528",
        "collapsed": true,
        "id": "50NDgmBWmbSC",
        "colab": {
          "base_uri": "https://localhost:8080/",
          "height": 34
        },
        "outputId": "87784ff8-779c-46af-e8dd-28667ed0dbc2"
      },
      "source": [
        "ntrain = train.shape[0]\n",
        "ntest = test.shape[0]\n",
        "y_train = train.SalePrice.values\n",
        "all_data = pd.concat((train, test)).reset_index(drop=True)\n",
        "all_data.drop(['SalePrice'], axis=1, inplace=True)\n",
        "print(\"all_data size is : {}\".format(all_data.shape))"
      ],
      "execution_count": null,
      "outputs": [
        {
          "output_type": "stream",
          "text": [
            "all_data size is : (2917, 79)\n"
          ],
          "name": "stdout"
        }
      ]
    },
    {
      "cell_type": "markdown",
      "metadata": {
        "_cell_guid": "9ce95008-a3b9-43fa-bc4e-649ca0f43768",
        "_execution_state": "idle",
        "_uuid": "abe25f3032a0bed179d58d5911cb42d97b35841b",
        "id": "voSBI5-HmbSJ"
      },
      "source": [
        "###Missing Data"
      ]
    },
    {
      "cell_type": "code",
      "metadata": {
        "_cell_guid": "501b465f-8c80-4b93-81d0-a5d41e08d235",
        "_execution_state": "idle",
        "_uuid": "f97d25548ec8f6c02e2d1ee5a6df6c3d107fdf53",
        "id": "5Bt4D3xNmbSK",
        "colab": {
          "base_uri": "https://localhost:8080/",
          "height": 639
        },
        "outputId": "e640f8dc-ed9a-441c-d4de-ab266cae0d72"
      },
      "source": [
        "all_data_na = (all_data.isnull().sum() / len(all_data)) * 100\n",
        "all_data_na = all_data_na.drop(all_data_na[all_data_na == 0].index).sort_values(ascending=False)[:30]\n",
        "missing_data = pd.DataFrame({'Missing Ratio' :all_data_na})\n",
        "missing_data.head(20)"
      ],
      "execution_count": null,
      "outputs": [
        {
          "output_type": "execute_result",
          "data": {
            "text/html": [
              "<div>\n",
              "<style scoped>\n",
              "    .dataframe tbody tr th:only-of-type {\n",
              "        vertical-align: middle;\n",
              "    }\n",
              "\n",
              "    .dataframe tbody tr th {\n",
              "        vertical-align: top;\n",
              "    }\n",
              "\n",
              "    .dataframe thead th {\n",
              "        text-align: right;\n",
              "    }\n",
              "</style>\n",
              "<table border=\"1\" class=\"dataframe\">\n",
              "  <thead>\n",
              "    <tr style=\"text-align: right;\">\n",
              "      <th></th>\n",
              "      <th>Missing Ratio</th>\n",
              "    </tr>\n",
              "  </thead>\n",
              "  <tbody>\n",
              "    <tr>\n",
              "      <th>PoolQC</th>\n",
              "      <td>99.691</td>\n",
              "    </tr>\n",
              "    <tr>\n",
              "      <th>MiscFeature</th>\n",
              "      <td>96.400</td>\n",
              "    </tr>\n",
              "    <tr>\n",
              "      <th>Alley</th>\n",
              "      <td>93.212</td>\n",
              "    </tr>\n",
              "    <tr>\n",
              "      <th>Fence</th>\n",
              "      <td>80.425</td>\n",
              "    </tr>\n",
              "    <tr>\n",
              "      <th>FireplaceQu</th>\n",
              "      <td>48.680</td>\n",
              "    </tr>\n",
              "    <tr>\n",
              "      <th>LotFrontage</th>\n",
              "      <td>16.661</td>\n",
              "    </tr>\n",
              "    <tr>\n",
              "      <th>GarageFinish</th>\n",
              "      <td>5.451</td>\n",
              "    </tr>\n",
              "    <tr>\n",
              "      <th>GarageYrBlt</th>\n",
              "      <td>5.451</td>\n",
              "    </tr>\n",
              "    <tr>\n",
              "      <th>GarageQual</th>\n",
              "      <td>5.451</td>\n",
              "    </tr>\n",
              "    <tr>\n",
              "      <th>GarageCond</th>\n",
              "      <td>5.451</td>\n",
              "    </tr>\n",
              "    <tr>\n",
              "      <th>GarageType</th>\n",
              "      <td>5.382</td>\n",
              "    </tr>\n",
              "    <tr>\n",
              "      <th>BsmtExposure</th>\n",
              "      <td>2.811</td>\n",
              "    </tr>\n",
              "    <tr>\n",
              "      <th>BsmtCond</th>\n",
              "      <td>2.811</td>\n",
              "    </tr>\n",
              "    <tr>\n",
              "      <th>BsmtQual</th>\n",
              "      <td>2.777</td>\n",
              "    </tr>\n",
              "    <tr>\n",
              "      <th>BsmtFinType2</th>\n",
              "      <td>2.743</td>\n",
              "    </tr>\n",
              "    <tr>\n",
              "      <th>BsmtFinType1</th>\n",
              "      <td>2.708</td>\n",
              "    </tr>\n",
              "    <tr>\n",
              "      <th>MasVnrType</th>\n",
              "      <td>0.823</td>\n",
              "    </tr>\n",
              "    <tr>\n",
              "      <th>MasVnrArea</th>\n",
              "      <td>0.788</td>\n",
              "    </tr>\n",
              "    <tr>\n",
              "      <th>MSZoning</th>\n",
              "      <td>0.137</td>\n",
              "    </tr>\n",
              "    <tr>\n",
              "      <th>BsmtFullBath</th>\n",
              "      <td>0.069</td>\n",
              "    </tr>\n",
              "  </tbody>\n",
              "</table>\n",
              "</div>"
            ],
            "text/plain": [
              "              Missing Ratio\n",
              "PoolQC               99.691\n",
              "MiscFeature          96.400\n",
              "Alley                93.212\n",
              "Fence                80.425\n",
              "FireplaceQu          48.680\n",
              "LotFrontage          16.661\n",
              "GarageFinish          5.451\n",
              "GarageYrBlt           5.451\n",
              "GarageQual            5.451\n",
              "GarageCond            5.451\n",
              "GarageType            5.382\n",
              "BsmtExposure          2.811\n",
              "BsmtCond              2.811\n",
              "BsmtQual              2.777\n",
              "BsmtFinType2          2.743\n",
              "BsmtFinType1          2.708\n",
              "MasVnrType            0.823\n",
              "MasVnrArea            0.788\n",
              "MSZoning              0.137\n",
              "BsmtFullBath          0.069"
            ]
          },
          "metadata": {
            "tags": []
          },
          "execution_count": 16
        }
      ]
    },
    {
      "cell_type": "code",
      "metadata": {
        "_cell_guid": "1c80610d-8f19-43c8-bd54-7d786b0dca49",
        "_execution_state": "idle",
        "_uuid": "2eb6e1361884db6a4f65afc3b158fcbe85c2392e",
        "collapsed": true,
        "id": "klUxrTTImbSQ",
        "colab": {
          "base_uri": "https://localhost:8080/",
          "height": 816
        },
        "outputId": "964d7290-8515-46cc-f52b-6ffffac1ea5a"
      },
      "source": [
        "f, ax = plt.subplots(figsize=(15, 12))\n",
        "plt.xticks(rotation='90')\n",
        "sns.barplot(x=all_data_na.index, y=all_data_na)\n",
        "plt.xlabel('Features', fontsize=15)\n",
        "plt.ylabel('Percent of missing values', fontsize=15)\n",
        "plt.title('Percent missing data by feature', fontsize=15)"
      ],
      "execution_count": null,
      "outputs": [
        {
          "output_type": "execute_result",
          "data": {
            "text/plain": [
              "Text(0.5, 1.0, 'Percent missing data by feature')"
            ]
          },
          "metadata": {
            "tags": []
          },
          "execution_count": 17
        },
        {
          "output_type": "display_data",
          "data": {
            "image/png": "[encoded data removed]",
            "text/plain": [
              "<Figure size 1080x864 with 1 Axes>"
            ]
          },
          "metadata": {
            "tags": []
          }
        }
      ]
    },
    {
      "cell_type": "markdown",
      "metadata": {
        "_cell_guid": "5d88502a-2484-45d7-a750-0d32075133dd",
        "_execution_state": "idle",
        "_uuid": "dbf28eddefa2c0825781a31cde823ac5ece5a1ee",
        "id": "9Pp_4-A_mbSV"
      },
      "source": [
        "**Data Correlation**\n"
      ]
    },
    {
      "cell_type": "code",
      "metadata": {
        "_cell_guid": "3fc115c7-33bb-456d-b3e5-4dd985bfbc9f",
        "_execution_state": "idle",
        "_uuid": "0f6b9912c752212f3f4bdca0b60f5fd01c12d2a0",
        "collapsed": true,
        "id": "plutZS35mbSW",
        "colab": {
          "base_uri": "https://localhost:8080/",
          "height": 620
        },
        "outputId": "46b35325-b815-4f73-8f22-40f1db5095a9"
      },
      "source": [
        "#Correlation map to see how features are correlated with SalePrice\n",
        "corrmat = train.corr()\n",
        "plt.subplots(figsize=(12,9))\n",
        "sns.heatmap(corrmat, vmax=0.9, square=True)"
      ],
      "execution_count": null,
      "outputs": [
        {
          "output_type": "execute_result",
          "data": {
            "text/plain": [
              "<matplotlib.axes._subplots.AxesSubplot at 0x7f6bce442ba8>"
            ]
          },
          "metadata": {
            "tags": []
          },
          "execution_count": 18
        },
        {
          "output_type": "display_data",
          "data": {
            "image/png": "[encoded data removed]",
            "text/plain": [
              "<Figure size 864x648 with 2 Axes>"
            ]
          },
          "metadata": {
            "tags": []
          }
        }
      ]
    },
    {
      "cell_type": "markdown",
      "metadata": {
        "_cell_guid": "cd681698-02d2-473e-bfc8-2d98a1353a18",
        "_execution_state": "idle",
        "_uuid": "41a6b40f8f03212a624f54167cad456a9f193f93",
        "id": "B-t0A9nFmbSc"
      },
      "source": [
        "###Imputing missing values "
      ]
    },
    {
      "cell_type": "markdown",
      "metadata": {
        "_cell_guid": "e717ffdc-b536-4f6c-8008-e520043a5d3d",
        "_execution_state": "idle",
        "_uuid": "24d64c66f2a2329437743756194d21893ee6dd1f",
        "id": "2c9YumxembSc"
      },
      "source": [
        "We impute them  by proceeding sequentially  through features with missing values "
      ]
    },
    {
      "cell_type": "markdown",
      "metadata": {
        "_cell_guid": "6f7d94ef-5ffb-4e1b-b1a2-a917cce3f357",
        "_execution_state": "idle",
        "_uuid": "d6d054aff0098e4e602ef618e0a4d3706d71dd66",
        "id": "phtza_8NmbSd"
      },
      "source": [
        "- **PoolQC** : data description says NA means \"No  Pool\". That make sense, given the huge ratio of missing value (+99%) and majority of houses have no Pool at all in general. "
      ]
    },
    {
      "cell_type": "code",
      "metadata": {
        "_cell_guid": "ca8a04eb-f42b-4c26-a690-bb98c95c6118",
        "_execution_state": "idle",
        "_uuid": "1d94b062f7683d711d479e48530009040185fd4c",
        "id": "mo5inZhMmbSe"
      },
      "source": [
        "all_data[\"PoolQC\"] = all_data[\"PoolQC\"].fillna(\"None\")"
      ],
      "execution_count": null,
      "outputs": []
    },
    {
      "cell_type": "markdown",
      "metadata": {
        "_cell_guid": "ea3aecb9-b2e8-4cdc-853d-999f8e2f789c",
        "_execution_state": "idle",
        "_uuid": "0516efe507d7176591f6af3d503312db5038949a",
        "id": "OhhZlv4ymbSj"
      },
      "source": [
        "- **MiscFeature** : data description says NA means \"no misc feature\"\n"
      ]
    },
    {
      "cell_type": "code",
      "metadata": {
        "_cell_guid": "689863b8-4e4e-45d7-9972-8894e8defbe2",
        "_execution_state": "idle",
        "_uuid": "c311993a26d66d66ce82584a3e00d7ed56a3ea5a",
        "id": "xQLyRNxZmbSj"
      },
      "source": [
        "all_data[\"MiscFeature\"] = all_data[\"MiscFeature\"].fillna(\"None\")"
      ],
      "execution_count": null,
      "outputs": []
    },
    {
      "cell_type": "markdown",
      "metadata": {
        "_cell_guid": "d467b9e0-0793-41e5-aaa1-d1686946ba9f",
        "_execution_state": "idle",
        "_uuid": "44cfbd9eecce5e4f2bc91a72ed095270e6010f57",
        "id": "9ZDTTSINmbSn"
      },
      "source": [
        "- **Alley** : data description says NA means \"no alley access\""
      ]
    },
    {
      "cell_type": "code",
      "metadata": {
        "_cell_guid": "0f822e30-09f3-45f8-b09e-0ffed4ff985c",
        "_execution_state": "idle",
        "_uuid": "35709caf5cb2b0220cd9043f76462a116de15059",
        "id": "0MzG5NX9mbSo"
      },
      "source": [
        "all_data[\"Alley\"] = all_data[\"Alley\"].fillna(\"None\")"
      ],
      "execution_count": null,
      "outputs": []
    },
    {
      "cell_type": "markdown",
      "metadata": {
        "_cell_guid": "0bab3349-eddb-4977-acd5-8dad4553ff7f",
        "_execution_state": "idle",
        "_uuid": "3265fc176140dbf1b641e18f2d57b91554c85771",
        "id": "Cu41m7V8mbSs"
      },
      "source": [
        "- **Fence** : data description says NA means \"no fence\""
      ]
    },
    {
      "cell_type": "code",
      "metadata": {
        "_cell_guid": "c0d6e4f4-df14-467f-bab2-86bfd0493a35",
        "_execution_state": "idle",
        "_uuid": "6d9d6998298a7fea5677f0916bcc9f33dc99e231",
        "id": "-1D8QapzmbSs"
      },
      "source": [
        "all_data[\"Fence\"] = all_data[\"Fence\"].fillna(\"None\")"
      ],
      "execution_count": null,
      "outputs": []
    },
    {
      "cell_type": "markdown",
      "metadata": {
        "_cell_guid": "49747765-81f1-4b23-ad63-534c7fe48b7a",
        "_execution_state": "idle",
        "_uuid": "4869889d4b2b118bc6dcef239cbc27546a7b445e",
        "id": "FEP56FqRmbSw"
      },
      "source": [
        "- **FireplaceQu** : data description says NA means \"no fireplace\""
      ]
    },
    {
      "cell_type": "code",
      "metadata": {
        "_cell_guid": "22b88c5b-6419-424f-9805-2c2b11e85dca",
        "_execution_state": "idle",
        "_uuid": "fb8cdb59e4ecba1f7ec78eb3b34c7209c34b1c86",
        "id": "uWxZiFllmbSy"
      },
      "source": [
        "all_data[\"FireplaceQu\"] = all_data[\"FireplaceQu\"].fillna(\"None\")"
      ],
      "execution_count": null,
      "outputs": []
    },
    {
      "cell_type": "markdown",
      "metadata": {
        "_cell_guid": "357994d1-974a-49ee-98e4-a19bc524fcb6",
        "_execution_state": "idle",
        "_uuid": "2b00af603b7dbc9114e62c421b2b886154d31959",
        "id": "rH4nQPd7mbS2"
      },
      "source": [
        "- **LotFrontage** : Since the area of each street connected to the house property most likely have a similar area to other houses in its neighborhood , we can **fill in missing values by the median LotFrontage of the neighborhood**."
      ]
    },
    {
      "cell_type": "code",
      "metadata": {
        "_cell_guid": "b8cd4872-67c6-4c82-a1a3-807d08efb658",
        "_execution_state": "idle",
        "_uuid": "56c268a7217e85301d2847ceeca410d62e781b89",
        "id": "NIFRkTUNmbS3"
      },
      "source": [
        "#Group by neighborhood and fill in missing value by the median LotFrontage of all the neighborhood\n",
        "all_data[\"LotFrontage\"] = all_data.groupby(\"Neighborhood\")[\"LotFrontage\"].transform(\n",
        "    lambda x: x.fillna(x.median()))"
      ],
      "execution_count": null,
      "outputs": []
    },
    {
      "cell_type": "markdown",
      "metadata": {
        "_cell_guid": "c0432c37-f664-4da1-a4d8-87a7cb450bd1",
        "_execution_state": "idle",
        "_uuid": "53712c1d6c7cf2945c6ba8b537171ea6b84f085e",
        "id": "XoH8IQm1mbS7"
      },
      "source": [
        "- **GarageType, GarageFinish, GarageQual and GarageCond** : Replacing missing data with None"
      ]
    },
    {
      "cell_type": "code",
      "metadata": {
        "_cell_guid": "f264979e-f5e2-4aae-b313-7468570c0294",
        "_execution_state": "idle",
        "_uuid": "d556da5418394ed50d3c14bd02668714cee0fb4a",
        "id": "AXilKe6XmbS8"
      },
      "source": [
        "for col in ('GarageType', 'GarageFinish', 'GarageQual', 'GarageCond'):\n",
        "    all_data[col] = all_data[col].fillna('None')"
      ],
      "execution_count": null,
      "outputs": []
    },
    {
      "cell_type": "markdown",
      "metadata": {
        "_cell_guid": "92173e82-fd12-4fa0-b7dd-f66fb7b0be3b",
        "_execution_state": "idle",
        "_uuid": "b38ea3ec1c4b8fa4b31e8f86f378798319c05a71",
        "id": "CUswNc98mbTA"
      },
      "source": [
        "- **GarageYrBlt, GarageArea and GarageCars** : Replacing missing data with 0 (Since No garage = no cars in such garage.)\n"
      ]
    },
    {
      "cell_type": "code",
      "metadata": {
        "_cell_guid": "ada7acfa-8bc3-4d52-9f42-28a78cefc950",
        "_execution_state": "idle",
        "_uuid": "2726cce29df2a2621c54c4c8a06eb570a7191552",
        "id": "jy31hMLKmbTB"
      },
      "source": [
        "for col in ('GarageYrBlt', 'GarageArea', 'GarageCars'):\n",
        "    all_data[col] = all_data[col].fillna(0)"
      ],
      "execution_count": null,
      "outputs": []
    },
    {
      "cell_type": "markdown",
      "metadata": {
        "_cell_guid": "b9f955c5-4e03-4835-8df7-1284120453ff",
        "_execution_state": "idle",
        "_uuid": "1729c36d95461d03679eb95e18eaac3d37aeb076",
        "id": "FVHK0_O8mbTF"
      },
      "source": [
        "- **BsmtFinSF1, BsmtFinSF2, BsmtUnfSF, TotalBsmtSF, BsmtFullBath and BsmtHalfBath** : missing values are likely zero for having no basement"
      ]
    },
    {
      "cell_type": "code",
      "metadata": {
        "_cell_guid": "dd9e7ef7-3cee-437a-9a33-20987e238425",
        "_execution_state": "idle",
        "_uuid": "3008a6bd07ed883ff92a83ebe390940a24010fcb",
        "id": "ddSdlKL3mbTG"
      },
      "source": [
        "for col in ('BsmtFinSF1', 'BsmtFinSF2', 'BsmtUnfSF','TotalBsmtSF', 'BsmtFullBath', 'BsmtHalfBath'):\n",
        "    all_data[col] = all_data[col].fillna(0)"
      ],
      "execution_count": null,
      "outputs": []
    },
    {
      "cell_type": "markdown",
      "metadata": {
        "_cell_guid": "441b397e-c527-4bd5-8d3c-df6aeba72192",
        "_execution_state": "idle",
        "_uuid": "d4ed0fcea9f8bb309118ba2fb703431e386c6cbd",
        "id": "MwUEmhrHmbTL"
      },
      "source": [
        "- **BsmtQual, BsmtCond, BsmtExposure, BsmtFinType1 and BsmtFinType2** : For all these categorical basement-related features, NaN means that there is no  basement.\n"
      ]
    },
    {
      "cell_type": "code",
      "metadata": {
        "_cell_guid": "6d7aa4f6-41b9-4f27-acb0-8af6aca2c8ff",
        "_execution_state": "idle",
        "_uuid": "ee281d3c691a50795e93bb797603c697d320b286",
        "id": "QVnFcjNHmbTM"
      },
      "source": [
        "for col in ('BsmtQual', 'BsmtCond', 'BsmtExposure', 'BsmtFinType1', 'BsmtFinType2'):\n",
        "    all_data[col] = all_data[col].fillna('None')"
      ],
      "execution_count": null,
      "outputs": []
    },
    {
      "cell_type": "markdown",
      "metadata": {
        "_cell_guid": "e7f2515f-8438-4075-9d22-0b37c1a2ef01",
        "_execution_state": "idle",
        "_uuid": "556165bc959cd6ff2354cb774341ac947d052f6a",
        "id": "z7OLmgTDmbTU"
      },
      "source": [
        "- **MasVnrArea and MasVnrType** : NA most likely means no masonry veneer for these houses. We can fill 0 for the area and None for the type. \n"
      ]
    },
    {
      "cell_type": "code",
      "metadata": {
        "_cell_guid": "63a3a030-482f-4292-a887-16880f7a2882",
        "_execution_state": "idle",
        "_uuid": "800ff604bb70023baf1d403b53b674b765d9047c",
        "id": "-PdydYX4mbTW"
      },
      "source": [
        "all_data[\"MasVnrType\"] = all_data[\"MasVnrType\"].fillna(\"None\")\n",
        "all_data[\"MasVnrArea\"] = all_data[\"MasVnrArea\"].fillna(0)"
      ],
      "execution_count": null,
      "outputs": []
    },
    {
      "cell_type": "markdown",
      "metadata": {
        "_cell_guid": "f2f7f337-de24-44ec-93a6-09428ec9a252",
        "_execution_state": "idle",
        "_uuid": "ded1f7ea0443654bd033eeed1361056f820a925b",
        "id": "G-g50qe7mbTe"
      },
      "source": [
        "- **MSZoning (The general zoning classification)** :  'RL' is by far  the most common value.  So we can fill in missing values with 'RL'\n"
      ]
    },
    {
      "cell_type": "code",
      "metadata": {
        "_cell_guid": "0e4f28b5-784c-4369-92f4-bda15fa55172",
        "_execution_state": "idle",
        "_uuid": "ca93ce9b34c853c1bb11d837eaff6c2986234757",
        "id": "6wfd_jfXmbTf"
      },
      "source": [
        "all_data['MSZoning'] = all_data['MSZoning'].fillna(all_data['MSZoning'].mode()[0])"
      ],
      "execution_count": null,
      "outputs": []
    },
    {
      "cell_type": "markdown",
      "metadata": {
        "_cell_guid": "99310a4b-9dbf-4273-81b5-94bf0adf338c",
        "_execution_state": "idle",
        "_uuid": "de39073aef3db7d13894fa82285eff803d6e5c1b",
        "id": "oCPMrZWgmbTm"
      },
      "source": [
        "- **Utilities** : For this categorical feature all records are \"AllPub\", except for one \"NoSeWa\"  and 2 NA . Since the house with 'NoSewa' is in the training set, **this feature won't help in predictive modelling**. We can then safely  remove it.\n"
      ]
    },
    {
      "cell_type": "code",
      "metadata": {
        "_cell_guid": "facec65d-945f-4be1-86c8-1be011cc2bd0",
        "_execution_state": "idle",
        "_uuid": "de8ee2aca9eb3eeed7442cd9d12843cc64746708",
        "id": "OYnJORu0mbTn"
      },
      "source": [
        "all_data = all_data.drop(['Utilities'], axis=1)"
      ],
      "execution_count": null,
      "outputs": []
    },
    {
      "cell_type": "markdown",
      "metadata": {
        "_cell_guid": "c6aabfcd-4a1d-4845-88a1-b2f5cb7d8901",
        "_execution_state": "idle",
        "_uuid": "3450d048089ba8ff98807c6ae3b745b0a34165f9",
        "id": "rKN8BBzhmbTu"
      },
      "source": [
        "- **Functional** : data description says NA means typical"
      ]
    },
    {
      "cell_type": "code",
      "metadata": {
        "_cell_guid": "c968aa5e-c34f-442e-9388-69e074a2c84e",
        "_execution_state": "idle",
        "_uuid": "e2d331e991fa868320b5d089f61c58b54ce7cb37",
        "id": "0NJWTo3DmbTv"
      },
      "source": [
        "all_data[\"Functional\"] = all_data[\"Functional\"].fillna(\"Typ\")"
      ],
      "execution_count": null,
      "outputs": []
    },
    {
      "cell_type": "markdown",
      "metadata": {
        "_cell_guid": "4f2bad4d-8db8-4ac3-8991-ffa2c775a72d",
        "_execution_state": "idle",
        "_uuid": "c122f5b5596bc4ce615c6b620b7e1824a54a47b8",
        "id": "2RjWtrtQmbT4"
      },
      "source": [
        "- **Electrical** : It has one NA value. Since this feature has mostly 'SBrkr', we can set that for the missing value.\n"
      ]
    },
    {
      "cell_type": "code",
      "metadata": {
        "_cell_guid": "d93eab84-7759-4201-bd7d-d450399478f7",
        "_execution_state": "idle",
        "_uuid": "d31761ee8878ce4143cf21adde149cd622c5a039",
        "id": "4IhdFNjWmbT5"
      },
      "source": [
        "all_data['Electrical'] = all_data['Electrical'].fillna(all_data['Electrical'].mode()[0])"
      ],
      "execution_count": null,
      "outputs": []
    },
    {
      "cell_type": "markdown",
      "metadata": {
        "_cell_guid": "3d089b8e-3392-4067-a5a1-4f6d4e3e8fb5",
        "_execution_state": "idle",
        "_uuid": "8e0fd54a802f1eddfec0aa4104412c19e1c266d0",
        "id": "2Z5eJgIGmbUB"
      },
      "source": [
        "- **KitchenQual**: Only one NA value, and same as Electrical, we set 'TA' (which is the most frequent)  for the missing value in KitchenQual.\n"
      ]
    },
    {
      "cell_type": "code",
      "metadata": {
        "_cell_guid": "9f68e47a-5b50-436f-9e31-ff65a1cb1687",
        "_execution_state": "idle",
        "_uuid": "23071ddb69b67b1d742bb15d260421d57aed5583",
        "id": "eyPAyne_mbUC"
      },
      "source": [
        "all_data['KitchenQual'] = all_data['KitchenQual'].fillna(all_data['KitchenQual'].mode()[0])"
      ],
      "execution_count": null,
      "outputs": []
    },
    {
      "cell_type": "markdown",
      "metadata": {
        "_cell_guid": "e32aec7d-2841-4bfc-a6d2-d181000af4b8",
        "_execution_state": "idle",
        "_uuid": "e8aca612daf293e7228eed9647370036d003e0fb",
        "id": "f4ocGxYPmbUJ"
      },
      "source": [
        "- **Exterior1st and Exterior2nd** : Again Both Exterior 1 & 2 have only one missing value. We will just substitute in the most common string\n"
      ]
    },
    {
      "cell_type": "code",
      "metadata": {
        "_cell_guid": "85903feb-7fdb-4911-9a6a-f29629bbf308",
        "_execution_state": "idle",
        "_uuid": "6375e9c7c145e0f2832cbe03addbce3d90cb44c4",
        "id": "ateMAavFmbUK"
      },
      "source": [
        "all_data['Exterior1st'] = all_data['Exterior1st'].fillna(all_data['Exterior1st'].mode()[0])\n",
        "all_data['Exterior2nd'] = all_data['Exterior2nd'].fillna(all_data['Exterior2nd'].mode()[0])"
      ],
      "execution_count": null,
      "outputs": []
    },
    {
      "cell_type": "markdown",
      "metadata": {
        "_cell_guid": "b87d629d-6820-4f3e-80f3-efc16436b982",
        "_execution_state": "idle",
        "_uuid": "67f41f0ad648d536d70e2ccb617a4b495fb7f782",
        "id": "VEZH2Ez_mbUR"
      },
      "source": [
        "- **SaleType** : Fill in again with most frequent which is \"WD\""
      ]
    },
    {
      "cell_type": "code",
      "metadata": {
        "_cell_guid": "aaa407ac-ad4a-4313-8530-ac96826be6e5",
        "_execution_state": "idle",
        "_uuid": "06c104efedaf57a4052c8f61c502cb6313e0beea",
        "id": "UGOkfvqmmbUS"
      },
      "source": [
        "all_data['SaleType'] = all_data['SaleType'].fillna(all_data['SaleType'].mode()[0])"
      ],
      "execution_count": null,
      "outputs": []
    },
    {
      "cell_type": "markdown",
      "metadata": {
        "_cell_guid": "8ddca94e-7cfa-4f25-9333-29e013c9c30d",
        "_execution_state": "idle",
        "_uuid": "8a3a35f5dc00732929143480a8a0b34a2a502c27",
        "id": "GMYXez60mbUb"
      },
      "source": [
        "- **MSSubClass** : Na most likely means No building class. We can replace missing values with None\n"
      ]
    },
    {
      "cell_type": "code",
      "metadata": {
        "_cell_guid": "23dedd0c-7d5e-4870-8588-8bc4890f627b",
        "_execution_state": "idle",
        "_uuid": "9608a2eada6013e7f14e9341862cca0dca4621e9",
        "id": "6BY_wZrfmbUc"
      },
      "source": [
        "\n",
        "all_data['MSSubClass'] = all_data['MSSubClass'].fillna(\"None\")\n",
        "\n"
      ],
      "execution_count": null,
      "outputs": []
    },
    {
      "cell_type": "markdown",
      "metadata": {
        "_cell_guid": "9193270b-8e7b-4a24-b769-d6eb661a1ae7",
        "_execution_state": "idle",
        "_uuid": "465570fcce8944ee31b1709ec6954d03cbf32ff8",
        "id": "o1dy54UlmbUm"
      },
      "source": [
        "Is there any remaining missing value ? "
      ]
    },
    {
      "cell_type": "code",
      "metadata": {
        "_cell_guid": "0adf05cf-ce60-4169-805c-ca776e60e85a",
        "_execution_state": "idle",
        "_uuid": "b091fa2ebef19425019e2e550410d0376b9e9fac",
        "collapsed": true,
        "id": "Mi73cjUAmbUo",
        "colab": {
          "base_uri": "https://localhost:8080/",
          "height": 47
        },
        "outputId": "124d01b0-869a-42fd-990f-fa11fd10f448"
      },
      "source": [
        "#Check remaining missing values if any \n",
        "all_data_na = (all_data.isnull().sum() / len(all_data)) * 100\n",
        "all_data_na = all_data_na.drop(all_data_na[all_data_na == 0].index).sort_values(ascending=False)\n",
        "missing_data = pd.DataFrame({'Missing Ratio' :all_data_na})\n",
        "missing_data.head()"
      ],
      "execution_count": null,
      "outputs": [
        {
          "output_type": "execute_result",
          "data": {
            "text/html": [
              "<div>\n",
              "<style scoped>\n",
              "    .dataframe tbody tr th:only-of-type {\n",
              "        vertical-align: middle;\n",
              "    }\n",
              "\n",
              "    .dataframe tbody tr th {\n",
              "        vertical-align: top;\n",
              "    }\n",
              "\n",
              "    .dataframe thead th {\n",
              "        text-align: right;\n",
              "    }\n",
              "</style>\n",
              "<table border=\"1\" class=\"dataframe\">\n",
              "  <thead>\n",
              "    <tr style=\"text-align: right;\">\n",
              "      <th></th>\n",
              "      <th>Missing Ratio</th>\n",
              "    </tr>\n",
              "  </thead>\n",
              "  <tbody>\n",
              "  </tbody>\n",
              "</table>\n",
              "</div>"
            ],
            "text/plain": [
              "Empty DataFrame\n",
              "Columns: [Missing Ratio]\n",
              "Index: []"
            ]
          },
          "metadata": {
            "tags": []
          },
          "execution_count": 40
        }
      ]
    },
    {
      "cell_type": "markdown",
      "metadata": {
        "_cell_guid": "78266762-5180-44fa-a630-b808706800d4",
        "_execution_state": "idle",
        "_uuid": "360f518886ac45afe2963b9b53edb17c2be4a130",
        "id": "UgrmutuHmbUx"
      },
      "source": [
        "It remains no missing value.\n"
      ]
    },
    {
      "cell_type": "markdown",
      "metadata": {
        "_cell_guid": "7996debf-c724-4365-9d63-f6104bae6140",
        "_execution_state": "idle",
        "_uuid": "915505b9c21b4dd84cc466660a68fb0d6b84cfae",
        "id": "QDUkIW9PmbUy"
      },
      "source": [
        "###More features engeneering"
      ]
    },
    {
      "cell_type": "markdown",
      "metadata": {
        "_cell_guid": "0d5076fa-b4ab-4787-bebb-8fd445b8815a",
        "_execution_state": "idle",
        "_uuid": "1cfcb671a97068569efb4e7855da91aa30c5bbde",
        "id": "O0m3_O8RmbUz"
      },
      "source": [
        "**Transforming some numerical variables that are really categorical**"
      ]
    },
    {
      "cell_type": "code",
      "metadata": {
        "_cell_guid": "a52dc2f9-ca02-4024-987a-165ce630b356",
        "_execution_state": "idle",
        "_uuid": "cc7557817a4442e799e4e4c84dd1efd8bd08867a",
        "id": "IAAV34TfmbU0"
      },
      "source": [
        "#MSSubClass=The building class\n",
        "all_data['MSSubClass'] = all_data['MSSubClass'].apply(str)\n",
        "\n",
        "\n",
        "#Changing OverallCond into a categorical variable\n",
        "all_data['OverallCond'] = all_data['OverallCond'].astype(str)\n",
        "\n",
        "\n",
        "#Year and month sold are transformed into categorical features.\n",
        "all_data['YrSold'] = all_data['YrSold'].astype(str)\n",
        "all_data['MoSold'] = all_data['MoSold'].astype(str)\n",
        "\n"
      ],
      "execution_count": null,
      "outputs": []
    },
    {
      "cell_type": "markdown",
      "metadata": {
        "_cell_guid": "9f80c0e7-3f3f-45c5-b111-e36f4e31e814",
        "_execution_state": "idle",
        "_uuid": "c4743ffb7fbb050edca7c77dc7cb6520577c1398",
        "id": "zxojeQyXmbU7"
      },
      "source": [
        "**Label Encoding some categorical variables that may contain information in their ordering set** "
      ]
    },
    {
      "cell_type": "code",
      "metadata": {
        "_cell_guid": "81c97efb-4f76-4e87-861a-10a60ab5c84b",
        "_execution_state": "idle",
        "_uuid": "fdb5ddf0a49a3c6df303c569c9f3509c79ac8b61",
        "collapsed": true,
        "id": "uEhxfLU6mbU8",
        "colab": {
          "base_uri": "https://localhost:8080/",
          "height": 34
        },
        "outputId": "7776e7dd-f140-4340-b5eb-70ae1f6bf7b1"
      },
      "source": [
        "from sklearn.preprocessing import LabelEncoder #Encode target labels with value between 0 and n_classes-1.\n",
        "cols = ('FireplaceQu', 'BsmtQual', 'BsmtCond', 'GarageQual', 'GarageCond', \n",
        "        'ExterQual', 'ExterCond','HeatingQC', 'PoolQC', 'KitchenQual', 'BsmtFinType1', \n",
        "        'BsmtFinType2', 'Functional', 'Fence', 'BsmtExposure', 'GarageFinish', 'LandSlope',\n",
        "        'LotShape', 'PavedDrive', 'Street', 'Alley', 'CentralAir', 'MSSubClass', 'OverallCond', \n",
        "        'YrSold', 'MoSold')\n",
        "# process columns, apply LabelEncoder to categorical features\n",
        "for c in cols:\n",
        "    lbl = LabelEncoder() \n",
        "    lbl.fit(list(all_data[c].values)) \n",
        "    all_data[c] = lbl.transform(list(all_data[c].values))\n",
        "\n",
        "# shape        \n",
        "print('Shape all_data: {}'.format(all_data.shape))\n",
        "\n",
        "\n"
      ],
      "execution_count": null,
      "outputs": [
        {
          "output_type": "stream",
          "text": [
            "Shape all_data: (2917, 78)\n"
          ],
          "name": "stdout"
        }
      ]
    },
    {
      "cell_type": "code",
      "metadata": {
        "id": "IK0iG9q-K4xS",
        "colab": {
          "base_uri": "https://localhost:8080/",
          "height": 215
        },
        "outputId": "5fcfa1ff-4fb6-4483-e4db-93757137151f"
      },
      "source": [
        "all_data.head(5)"
      ],
      "execution_count": null,
      "outputs": [
        {
          "output_type": "execute_result",
          "data": {
            "text/html": [
              "<div>\n",
              "<style scoped>\n",
              "    .dataframe tbody tr th:only-of-type {\n",
              "        vertical-align: middle;\n",
              "    }\n",
              "\n",
              "    .dataframe tbody tr th {\n",
              "        vertical-align: top;\n",
              "    }\n",
              "\n",
              "    .dataframe thead th {\n",
              "        text-align: right;\n",
              "    }\n",
              "</style>\n",
              "<table border=\"1\" class=\"dataframe\">\n",
              "  <thead>\n",
              "    <tr style=\"text-align: right;\">\n",
              "      <th></th>\n",
              "      <th>MSSubClass</th>\n",
              "      <th>MSZoning</th>\n",
              "      <th>LotFrontage</th>\n",
              "      <th>LotArea</th>\n",
              "      <th>Street</th>\n",
              "      <th>Alley</th>\n",
              "      <th>LotShape</th>\n",
              "      <th>LandContour</th>\n",
              "      <th>LotConfig</th>\n",
              "      <th>LandSlope</th>\n",
              "      <th>Neighborhood</th>\n",
              "      <th>Condition1</th>\n",
              "      <th>Condition2</th>\n",
              "      <th>BldgType</th>\n",
              "      <th>HouseStyle</th>\n",
              "      <th>OverallQual</th>\n",
              "      <th>OverallCond</th>\n",
              "      <th>YearBuilt</th>\n",
              "      <th>YearRemodAdd</th>\n",
              "      <th>RoofStyle</th>\n",
              "      <th>RoofMatl</th>\n",
              "      <th>Exterior1st</th>\n",
              "      <th>Exterior2nd</th>\n",
              "      <th>MasVnrType</th>\n",
              "      <th>MasVnrArea</th>\n",
              "      <th>ExterQual</th>\n",
              "      <th>ExterCond</th>\n",
              "      <th>Foundation</th>\n",
              "      <th>BsmtQual</th>\n",
              "      <th>BsmtCond</th>\n",
              "      <th>BsmtExposure</th>\n",
              "      <th>BsmtFinType1</th>\n",
              "      <th>BsmtFinSF1</th>\n",
              "      <th>BsmtFinType2</th>\n",
              "      <th>BsmtFinSF2</th>\n",
              "      <th>BsmtUnfSF</th>\n",
              "      <th>TotalBsmtSF</th>\n",
              "      <th>Heating</th>\n",
              "      <th>HeatingQC</th>\n",
              "      <th>CentralAir</th>\n",
              "      <th>Electrical</th>\n",
              "      <th>1stFlrSF</th>\n",
              "      <th>2ndFlrSF</th>\n",
              "      <th>LowQualFinSF</th>\n",
              "      <th>GrLivArea</th>\n",
              "      <th>BsmtFullBath</th>\n",
              "      <th>BsmtHalfBath</th>\n",
              "      <th>FullBath</th>\n",
              "      <th>HalfBath</th>\n",
              "      <th>BedroomAbvGr</th>\n",
              "      <th>KitchenAbvGr</th>\n",
              "      <th>KitchenQual</th>\n",
              "      <th>TotRmsAbvGrd</th>\n",
              "      <th>Functional</th>\n",
              "      <th>Fireplaces</th>\n",
              "      <th>FireplaceQu</th>\n",
              "      <th>GarageType</th>\n",
              "      <th>GarageYrBlt</th>\n",
              "      <th>GarageFinish</th>\n",
              "      <th>GarageCars</th>\n",
              "      <th>GarageArea</th>\n",
              "      <th>GarageQual</th>\n",
              "      <th>GarageCond</th>\n",
              "      <th>PavedDrive</th>\n",
              "      <th>WoodDeckSF</th>\n",
              "      <th>OpenPorchSF</th>\n",
              "      <th>EnclosedPorch</th>\n",
              "      <th>3SsnPorch</th>\n",
              "      <th>ScreenPorch</th>\n",
              "      <th>PoolArea</th>\n",
              "      <th>PoolQC</th>\n",
              "      <th>Fence</th>\n",
              "      <th>MiscFeature</th>\n",
              "      <th>MiscVal</th>\n",
              "      <th>MoSold</th>\n",
              "      <th>YrSold</th>\n",
              "      <th>SaleType</th>\n",
              "      <th>SaleCondition</th>\n",
              "    </tr>\n",
              "  </thead>\n",
              "  <tbody>\n",
              "    <tr>\n",
              "      <th>0</th>\n",
              "      <td>10</td>\n",
              "      <td>RL</td>\n",
              "      <td>65.000</td>\n",
              "      <td>8450</td>\n",
              "      <td>1</td>\n",
              "      <td>1</td>\n",
              "      <td>3</td>\n",
              "      <td>Lvl</td>\n",
              "      <td>Inside</td>\n",
              "      <td>0</td>\n",
              "      <td>CollgCr</td>\n",
              "      <td>Norm</td>\n",
              "      <td>Norm</td>\n",
              "      <td>1Fam</td>\n",
              "      <td>2Story</td>\n",
              "      <td>7</td>\n",
              "      <td>4</td>\n",
              "      <td>2003</td>\n",
              "      <td>2003</td>\n",
              "      <td>Gable</td>\n",
              "      <td>CompShg</td>\n",
              "      <td>VinylSd</td>\n",
              "      <td>VinylSd</td>\n",
              "      <td>BrkFace</td>\n",
              "      <td>196.000</td>\n",
              "      <td>2</td>\n",
              "      <td>4</td>\n",
              "      <td>PConc</td>\n",
              "      <td>2</td>\n",
              "      <td>4</td>\n",
              "      <td>3</td>\n",
              "      <td>2</td>\n",
              "      <td>706.000</td>\n",
              "      <td>6</td>\n",
              "      <td>0.000</td>\n",
              "      <td>150.000</td>\n",
              "      <td>856.000</td>\n",
              "      <td>GasA</td>\n",
              "      <td>0</td>\n",
              "      <td>1</td>\n",
              "      <td>SBrkr</td>\n",
              "      <td>856</td>\n",
              "      <td>854</td>\n",
              "      <td>0</td>\n",
              "      <td>1710</td>\n",
              "      <td>1.000</td>\n",
              "      <td>0.000</td>\n",
              "      <td>2</td>\n",
              "      <td>1</td>\n",
              "      <td>3</td>\n",
              "      <td>1</td>\n",
              "      <td>2</td>\n",
              "      <td>8</td>\n",
              "      <td>6</td>\n",
              "      <td>0</td>\n",
              "      <td>3</td>\n",
              "      <td>Attchd</td>\n",
              "      <td>2003.000</td>\n",
              "      <td>2</td>\n",
              "      <td>2.000</td>\n",
              "      <td>548.000</td>\n",
              "      <td>5</td>\n",
              "      <td>5</td>\n",
              "      <td>2</td>\n",
              "      <td>0</td>\n",
              "      <td>61</td>\n",
              "      <td>0</td>\n",
              "      <td>0</td>\n",
              "      <td>0</td>\n",
              "      <td>0</td>\n",
              "      <td>3</td>\n",
              "      <td>4</td>\n",
              "      <td>None</td>\n",
              "      <td>0</td>\n",
              "      <td>4</td>\n",
              "      <td>2</td>\n",
              "      <td>WD</td>\n",
              "      <td>Normal</td>\n",
              "    </tr>\n",
              "    <tr>\n",
              "      <th>1</th>\n",
              "      <td>5</td>\n",
              "      <td>RL</td>\n",
              "      <td>80.000</td>\n",
              "      <td>9600</td>\n",
              "      <td>1</td>\n",
              "      <td>1</td>\n",
              "      <td>3</td>\n",
              "      <td>Lvl</td>\n",
              "      <td>FR2</td>\n",
              "      <td>0</td>\n",
              "      <td>Veenker</td>\n",
              "      <td>Feedr</td>\n",
              "      <td>Norm</td>\n",
              "      <td>1Fam</td>\n",
              "      <td>1Story</td>\n",
              "      <td>6</td>\n",
              "      <td>7</td>\n",
              "      <td>1976</td>\n",
              "      <td>1976</td>\n",
              "      <td>Gable</td>\n",
              "      <td>CompShg</td>\n",
              "      <td>MetalSd</td>\n",
              "      <td>MetalSd</td>\n",
              "      <td>None</td>\n",
              "      <td>0.000</td>\n",
              "      <td>3</td>\n",
              "      <td>4</td>\n",
              "      <td>CBlock</td>\n",
              "      <td>2</td>\n",
              "      <td>4</td>\n",
              "      <td>1</td>\n",
              "      <td>0</td>\n",
              "      <td>978.000</td>\n",
              "      <td>6</td>\n",
              "      <td>0.000</td>\n",
              "      <td>284.000</td>\n",
              "      <td>1262.000</td>\n",
              "      <td>GasA</td>\n",
              "      <td>0</td>\n",
              "      <td>1</td>\n",
              "      <td>SBrkr</td>\n",
              "      <td>1262</td>\n",
              "      <td>0</td>\n",
              "      <td>0</td>\n",
              "      <td>1262</td>\n",
              "      <td>0.000</td>\n",
              "      <td>1.000</td>\n",
              "      <td>2</td>\n",
              "      <td>0</td>\n",
              "      <td>3</td>\n",
              "      <td>1</td>\n",
              "      <td>3</td>\n",
              "      <td>6</td>\n",
              "      <td>6</td>\n",
              "      <td>1</td>\n",
              "      <td>5</td>\n",
              "      <td>Attchd</td>\n",
              "      <td>1976.000</td>\n",
              "      <td>2</td>\n",
              "      <td>2.000</td>\n",
              "      <td>460.000</td>\n",
              "      <td>5</td>\n",
              "      <td>5</td>\n",
              "      <td>2</td>\n",
              "      <td>298</td>\n",
              "      <td>0</td>\n",
              "      <td>0</td>\n",
              "      <td>0</td>\n",
              "      <td>0</td>\n",
              "      <td>0</td>\n",
              "      <td>3</td>\n",
              "      <td>4</td>\n",
              "      <td>None</td>\n",
              "      <td>0</td>\n",
              "      <td>7</td>\n",
              "      <td>1</td>\n",
              "      <td>WD</td>\n",
              "      <td>Normal</td>\n",
              "    </tr>\n",
              "    <tr>\n",
              "      <th>2</th>\n",
              "      <td>10</td>\n",
              "      <td>RL</td>\n",
              "      <td>68.000</td>\n",
              "      <td>11250</td>\n",
              "      <td>1</td>\n",
              "      <td>1</td>\n",
              "      <td>0</td>\n",
              "      <td>Lvl</td>\n",
              "      <td>Inside</td>\n",
              "      <td>0</td>\n",
              "      <td>CollgCr</td>\n",
              "      <td>Norm</td>\n",
              "      <td>Norm</td>\n",
              "      <td>1Fam</td>\n",
              "      <td>2Story</td>\n",
              "      <td>7</td>\n",
              "      <td>4</td>\n",
              "      <td>2001</td>\n",
              "      <td>2002</td>\n",
              "      <td>Gable</td>\n",
              "      <td>CompShg</td>\n",
              "      <td>VinylSd</td>\n",
              "      <td>VinylSd</td>\n",
              "      <td>BrkFace</td>\n",
              "      <td>162.000</td>\n",
              "      <td>2</td>\n",
              "      <td>4</td>\n",
              "      <td>PConc</td>\n",
              "      <td>2</td>\n",
              "      <td>4</td>\n",
              "      <td>2</td>\n",
              "      <td>2</td>\n",
              "      <td>486.000</td>\n",
              "      <td>6</td>\n",
              "      <td>0.000</td>\n",
              "      <td>434.000</td>\n",
              "      <td>920.000</td>\n",
              "      <td>GasA</td>\n",
              "      <td>0</td>\n",
              "      <td>1</td>\n",
              "      <td>SBrkr</td>\n",
              "      <td>920</td>\n",
              "      <td>866</td>\n",
              "      <td>0</td>\n",
              "      <td>1786</td>\n",
              "      <td>1.000</td>\n",
              "      <td>0.000</td>\n",
              "      <td>2</td>\n",
              "      <td>1</td>\n",
              "      <td>3</td>\n",
              "      <td>1</td>\n",
              "      <td>2</td>\n",
              "      <td>6</td>\n",
              "      <td>6</td>\n",
              "      <td>1</td>\n",
              "      <td>5</td>\n",
              "      <td>Attchd</td>\n",
              "      <td>2001.000</td>\n",
              "      <td>2</td>\n",
              "      <td>2.000</td>\n",
              "      <td>608.000</td>\n",
              "      <td>5</td>\n",
              "      <td>5</td>\n",
              "      <td>2</td>\n",
              "      <td>0</td>\n",
              "      <td>42</td>\n",
              "      <td>0</td>\n",
              "      <td>0</td>\n",
              "      <td>0</td>\n",
              "      <td>0</td>\n",
              "      <td>3</td>\n",
              "      <td>4</td>\n",
              "      <td>None</td>\n",
              "      <td>0</td>\n",
              "      <td>11</td>\n",
              "      <td>2</td>\n",
              "      <td>WD</td>\n",
              "      <td>Normal</td>\n",
              "    </tr>\n",
              "    <tr>\n",
              "      <th>3</th>\n",
              "      <td>11</td>\n",
              "      <td>RL</td>\n",
              "      <td>60.000</td>\n",
              "      <td>9550</td>\n",
              "      <td>1</td>\n",
              "      <td>1</td>\n",
              "      <td>0</td>\n",
              "      <td>Lvl</td>\n",
              "      <td>Corner</td>\n",
              "      <td>0</td>\n",
              "      <td>Crawfor</td>\n",
              "      <td>Norm</td>\n",
              "      <td>Norm</td>\n",
              "      <td>1Fam</td>\n",
              "      <td>2Story</td>\n",
              "      <td>7</td>\n",
              "      <td>4</td>\n",
              "      <td>1915</td>\n",
              "      <td>1970</td>\n",
              "      <td>Gable</td>\n",
              "      <td>CompShg</td>\n",
              "      <td>Wd Sdng</td>\n",
              "      <td>Wd Shng</td>\n",
              "      <td>None</td>\n",
              "      <td>0.000</td>\n",
              "      <td>3</td>\n",
              "      <td>4</td>\n",
              "      <td>BrkTil</td>\n",
              "      <td>4</td>\n",
              "      <td>1</td>\n",
              "      <td>3</td>\n",
              "      <td>0</td>\n",
              "      <td>216.000</td>\n",
              "      <td>6</td>\n",
              "      <td>0.000</td>\n",
              "      <td>540.000</td>\n",
              "      <td>756.000</td>\n",
              "      <td>GasA</td>\n",
              "      <td>2</td>\n",
              "      <td>1</td>\n",
              "      <td>SBrkr</td>\n",
              "      <td>961</td>\n",
              "      <td>756</td>\n",
              "      <td>0</td>\n",
              "      <td>1717</td>\n",
              "      <td>1.000</td>\n",
              "      <td>0.000</td>\n",
              "      <td>1</td>\n",
              "      <td>0</td>\n",
              "      <td>3</td>\n",
              "      <td>1</td>\n",
              "      <td>2</td>\n",
              "      <td>7</td>\n",
              "      <td>6</td>\n",
              "      <td>1</td>\n",
              "      <td>2</td>\n",
              "      <td>Detchd</td>\n",
              "      <td>1998.000</td>\n",
              "      <td>3</td>\n",
              "      <td>3.000</td>\n",
              "      <td>642.000</td>\n",
              "      <td>5</td>\n",
              "      <td>5</td>\n",
              "      <td>2</td>\n",
              "      <td>0</td>\n",
              "      <td>35</td>\n",
              "      <td>272</td>\n",
              "      <td>0</td>\n",
              "      <td>0</td>\n",
              "      <td>0</td>\n",
              "      <td>3</td>\n",
              "      <td>4</td>\n",
              "      <td>None</td>\n",
              "      <td>0</td>\n",
              "      <td>4</td>\n",
              "      <td>0</td>\n",
              "      <td>WD</td>\n",
              "      <td>Abnorml</td>\n",
              "    </tr>\n",
              "    <tr>\n",
              "      <th>4</th>\n",
              "      <td>10</td>\n",
              "      <td>RL</td>\n",
              "      <td>84.000</td>\n",
              "      <td>14260</td>\n",
              "      <td>1</td>\n",
              "      <td>1</td>\n",
              "      <td>0</td>\n",
              "      <td>Lvl</td>\n",
              "      <td>FR2</td>\n",
              "      <td>0</td>\n",
              "      <td>NoRidge</td>\n",
              "      <td>Norm</td>\n",
              "      <td>Norm</td>\n",
              "      <td>1Fam</td>\n",
              "      <td>2Story</td>\n",
              "      <td>8</td>\n",
              "      <td>4</td>\n",
              "      <td>2000</td>\n",
              "      <td>2000</td>\n",
              "      <td>Gable</td>\n",
              "      <td>CompShg</td>\n",
              "      <td>VinylSd</td>\n",
              "      <td>VinylSd</td>\n",
              "      <td>BrkFace</td>\n",
              "      <td>350.000</td>\n",
              "      <td>2</td>\n",
              "      <td>4</td>\n",
              "      <td>PConc</td>\n",
              "      <td>2</td>\n",
              "      <td>4</td>\n",
              "      <td>0</td>\n",
              "      <td>2</td>\n",
              "      <td>655.000</td>\n",
              "      <td>6</td>\n",
              "      <td>0.000</td>\n",
              "      <td>490.000</td>\n",
              "      <td>1145.000</td>\n",
              "      <td>GasA</td>\n",
              "      <td>0</td>\n",
              "      <td>1</td>\n",
              "      <td>SBrkr</td>\n",
              "      <td>1145</td>\n",
              "      <td>1053</td>\n",
              "      <td>0</td>\n",
              "      <td>2198</td>\n",
              "      <td>1.000</td>\n",
              "      <td>0.000</td>\n",
              "      <td>2</td>\n",
              "      <td>1</td>\n",
              "      <td>4</td>\n",
              "      <td>1</td>\n",
              "      <td>2</td>\n",
              "      <td>9</td>\n",
              "      <td>6</td>\n",
              "      <td>1</td>\n",
              "      <td>5</td>\n",
              "      <td>Attchd</td>\n",
              "      <td>2000.000</td>\n",
              "      <td>2</td>\n",
              "      <td>3.000</td>\n",
              "      <td>836.000</td>\n",
              "      <td>5</td>\n",
              "      <td>5</td>\n",
              "      <td>2</td>\n",
              "      <td>192</td>\n",
              "      <td>84</td>\n",
              "      <td>0</td>\n",
              "      <td>0</td>\n",
              "      <td>0</td>\n",
              "      <td>0</td>\n",
              "      <td>3</td>\n",
              "      <td>4</td>\n",
              "      <td>None</td>\n",
              "      <td>0</td>\n",
              "      <td>3</td>\n",
              "      <td>2</td>\n",
              "      <td>WD</td>\n",
              "      <td>Normal</td>\n",
              "    </tr>\n",
              "  </tbody>\n",
              "</table>\n",
              "</div>"
            ],
            "text/plain": [
              "   MSSubClass MSZoning  LotFrontage  ...  YrSold  SaleType  SaleCondition\n",
              "0          10       RL       65.000  ...       2        WD         Normal\n",
              "1           5       RL       80.000  ...       1        WD         Normal\n",
              "2          10       RL       68.000  ...       2        WD         Normal\n",
              "3          11       RL       60.000  ...       0        WD        Abnorml\n",
              "4          10       RL       84.000  ...       2        WD         Normal\n",
              "\n",
              "[5 rows x 78 columns]"
            ]
          },
          "metadata": {
            "tags": []
          },
          "execution_count": 43
        }
      ]
    },
    {
      "cell_type": "markdown",
      "metadata": {
        "_cell_guid": "a4879ef7-ab0d-4955-bc48-7ebcfa04b3bd",
        "_execution_state": "idle",
        "_uuid": "9976d6288bc183d443fbccc2bde439d5bc3a87b1",
        "id": "LsPOzI12mbVG"
      },
      "source": [
        "**Adding one more important feature**"
      ]
    },
    {
      "cell_type": "markdown",
      "metadata": {
        "_cell_guid": "b9486529-a3d2-443d-8a90-6bfbc406583b",
        "_execution_state": "idle",
        "_uuid": "ab22a33cf69e8092b3c4ae0a80b1f5f31b67edbc",
        "id": "V1MOj7ADmbVI"
      },
      "source": [
        "Since area related features are very important to determine house prices, we add one more feature which is the total area of basement, first and second floor areas of each house"
      ]
    },
    {
      "cell_type": "code",
      "metadata": {
        "_cell_guid": "fc1a8f1a-f003-4538-8e60-d819f46362a3",
        "_execution_state": "idle",
        "_uuid": "208f8d22188786227fff4a978dc3b11b4e1ffd90",
        "id": "b2aJoBLkmbVJ"
      },
      "source": [
        "# Adding total sqfootage feature \n",
        "all_data['TotalSF'] = all_data['TotalBsmtSF'] + all_data['1stFlrSF'] + all_data['2ndFlrSF']\n"
      ],
      "execution_count": null,
      "outputs": []
    },
    {
      "cell_type": "markdown",
      "metadata": {
        "_cell_guid": "91c73aad-82d1-4301-b540-b2f69dc13902",
        "_execution_state": "idle",
        "_uuid": "aa36d6e3253e354b46d9c9c6f2e8a4089c76be16",
        "id": "BH74u1w8mbVO"
      },
      "source": [
        "**Skewed features**"
      ]
    },
    {
      "cell_type": "code",
      "metadata": {
        "_cell_guid": "c5972a73-7e86-4164-a9d6-58432dae1933",
        "_execution_state": "idle",
        "_uuid": "53c471c7008c66590f257e70866f8a3037813f13",
        "collapsed": true,
        "id": "nk0eZde9mbVP",
        "colab": {
          "base_uri": "https://localhost:8080/",
          "height": 394
        },
        "outputId": "b185aba5-cd05-4927-e24f-113692196c5c"
      },
      "source": [
        "numeric_feats = all_data.dtypes[all_data.dtypes != \"object\"].index\n",
        "\n",
        "# Check the skew of all numerical features\n",
        "skewed_feats = all_data[numeric_feats].apply(lambda x: skew(x.dropna())).sort_values(ascending=False)\n",
        "print(\"\\nSkew in numerical features: \\n\")\n",
        "skewness = pd.DataFrame({'Skew' :skewed_feats})\n",
        "skewness.head(10)\n"
      ],
      "execution_count": null,
      "outputs": [
        {
          "output_type": "stream",
          "text": [
            "\n",
            "Skew in numerical features: \n",
            "\n"
          ],
          "name": "stdout"
        },
        {
          "output_type": "execute_result",
          "data": {
            "text/html": [
              "<div>\n",
              "<style scoped>\n",
              "    .dataframe tbody tr th:only-of-type {\n",
              "        vertical-align: middle;\n",
              "    }\n",
              "\n",
              "    .dataframe tbody tr th {\n",
              "        vertical-align: top;\n",
              "    }\n",
              "\n",
              "    .dataframe thead th {\n",
              "        text-align: right;\n",
              "    }\n",
              "</style>\n",
              "<table border=\"1\" class=\"dataframe\">\n",
              "  <thead>\n",
              "    <tr style=\"text-align: right;\">\n",
              "      <th></th>\n",
              "      <th>Skew</th>\n",
              "    </tr>\n",
              "  </thead>\n",
              "  <tbody>\n",
              "    <tr>\n",
              "      <th>MiscVal</th>\n",
              "      <td>21.940</td>\n",
              "    </tr>\n",
              "    <tr>\n",
              "      <th>PoolArea</th>\n",
              "      <td>17.689</td>\n",
              "    </tr>\n",
              "    <tr>\n",
              "      <th>LotArea</th>\n",
              "      <td>13.109</td>\n",
              "    </tr>\n",
              "    <tr>\n",
              "      <th>LowQualFinSF</th>\n",
              "      <td>12.085</td>\n",
              "    </tr>\n",
              "    <tr>\n",
              "      <th>3SsnPorch</th>\n",
              "      <td>11.372</td>\n",
              "    </tr>\n",
              "    <tr>\n",
              "      <th>LandSlope</th>\n",
              "      <td>4.973</td>\n",
              "    </tr>\n",
              "    <tr>\n",
              "      <th>KitchenAbvGr</th>\n",
              "      <td>4.301</td>\n",
              "    </tr>\n",
              "    <tr>\n",
              "      <th>BsmtFinSF2</th>\n",
              "      <td>4.145</td>\n",
              "    </tr>\n",
              "    <tr>\n",
              "      <th>EnclosedPorch</th>\n",
              "      <td>4.002</td>\n",
              "    </tr>\n",
              "    <tr>\n",
              "      <th>ScreenPorch</th>\n",
              "      <td>3.945</td>\n",
              "    </tr>\n",
              "  </tbody>\n",
              "</table>\n",
              "</div>"
            ],
            "text/plain": [
              "                Skew\n",
              "MiscVal       21.940\n",
              "PoolArea      17.689\n",
              "LotArea       13.109\n",
              "LowQualFinSF  12.085\n",
              "3SsnPorch     11.372\n",
              "LandSlope      4.973\n",
              "KitchenAbvGr   4.301\n",
              "BsmtFinSF2     4.145\n",
              "EnclosedPorch  4.002\n",
              "ScreenPorch    3.945"
            ]
          },
          "metadata": {
            "tags": []
          },
          "execution_count": 45
        }
      ]
    },
    {
      "cell_type": "markdown",
      "metadata": {
        "id": "gg_UQRikhtTh"
      },
      "source": [
        "skewness = 0 : normally distributed.\n",
        "\n",
        "skewness > 0 : more weight in the left tail of the distribution.\n",
        "\n",
        "skewness < 0 : more weight in the right tail of the distribution."
      ]
    },
    {
      "cell_type": "markdown",
      "metadata": {
        "_cell_guid": "9f110087-b707-4073-a1df-0a0a9d6ccbd3",
        "_execution_state": "idle",
        "_uuid": "cf63bdc9f4f80d81f1bfa14f89d65ff104d45e5b",
        "id": "w5MBxwoimbVU"
      },
      "source": [
        "**Box Cox Transformation of (highly) skewed features**"
      ]
    },
    {
      "cell_type": "markdown",
      "metadata": {
        "_cell_guid": "d1d18243-42d8-4a21-808d-784c21e53973",
        "_execution_state": "idle",
        "_uuid": "eab0b4c0a85ae2fbe1bdeea0eedd113904ef3eb1",
        "id": "JOr0PWL6mbVV"
      },
      "source": [
        "We use the scipy  function boxcox1p which computes the Box-Cox transformation of **\\\\(1 + x\\\\)**. \n",
        "\n",
        "Note that setting \\\\( \\lambda = 0 \\\\) is equivalent to log1p used above for the target variable.  \n",
        "\n",
        "See [this page][1] for more details on Box Cox Transformation as well as [the scipy function's page][2]\n",
        "[1]: http://onlinestatbook.com/2/transformations/box-cox.html\n",
        "[2]: https://docs.scipy.org/doc/scipy-0.19.0/reference/generated/scipy.special.boxcox1p.html"
      ]
    },
    {
      "cell_type": "code",
      "metadata": {
        "_cell_guid": "d8ebce87-c55d-46c6-8f06-8b34116d7370",
        "_execution_state": "idle",
        "_uuid": "969fdff338ef46f064d8f855782c96d322a264b1",
        "collapsed": true,
        "id": "XRH_kO7RmbVZ",
        "colab": {
          "base_uri": "https://localhost:8080/",
          "height": 34
        },
        "outputId": "3734b3d1-75b1-4d4d-b56c-d0eb7f6a7fb9"
      },
      "source": [
        "skewness = skewness[abs(skewness) > 0.75]\n",
        "print(\"There are {} skewed numerical features to Box Cox transform\".format(skewness.shape[0]))\n",
        "\n",
        "from scipy.special import boxcox1p\n",
        "skewed_features = skewness.index\n",
        "lam = 0.15\n",
        "for feat in skewed_features:\n",
        "    #all_data[feat] += 1\n",
        "    all_data[feat] = boxcox1p(all_data[feat], lam)\n",
        "    \n",
        "#all_data[skewed_features] = np.log1p(all_data[skewed_features])"
      ],
      "execution_count": null,
      "outputs": [
        {
          "output_type": "stream",
          "text": [
            "There are 59 skewed numerical features to Box Cox transform\n"
          ],
          "name": "stdout"
        }
      ]
    },
    {
      "cell_type": "markdown",
      "metadata": {
        "_cell_guid": "39639caf-31a4-4401-a663-0ba9536b39bf",
        "_execution_state": "idle",
        "_uuid": "5a13a6e2a3e48975de9129d1593bd38df44a1069",
        "id": "0lnW4IfFmbVf"
      },
      "source": [
        "**Getting dummy categorical features**"
      ]
    },
    {
      "cell_type": "code",
      "metadata": {
        "_cell_guid": "c8e63516-e4e2-4f36-a60e-1c8316392c60",
        "_execution_state": "idle",
        "_uuid": "acd44e283867425257ffd1fb2f4893cdbff43f67",
        "collapsed": true,
        "id": "U9yEEfkcmbVg",
        "colab": {
          "base_uri": "https://localhost:8080/",
          "height": 34
        },
        "outputId": "208c14b7-9eb6-4403-e4b8-14647f23d760"
      },
      "source": [
        "\n",
        "all_data = pd.get_dummies(all_data)\n",
        "print(all_data.shape)"
      ],
      "execution_count": null,
      "outputs": [
        {
          "output_type": "stream",
          "text": [
            "(2917, 220)\n"
          ],
          "name": "stdout"
        }
      ]
    },
    {
      "cell_type": "markdown",
      "metadata": {
        "_cell_guid": "243cf047-c2ba-4ae5-a531-22ef9b7cfbfe",
        "_execution_state": "idle",
        "_uuid": "fe9d78c7e37142ee8089826eca3065e0fa5803c1",
        "id": "KsYYI4KBmbVl"
      },
      "source": [
        "Getting the new train and test sets. "
      ]
    },
    {
      "cell_type": "code",
      "metadata": {
        "_cell_guid": "0a75646f-1974-40ad-a085-ff7bc08454a5",
        "_execution_state": "idle",
        "_uuid": "89e464095544a53177d5a009b914ba4c660072a7",
        "id": "vc6bm8HQmbVq"
      },
      "source": [
        "train = all_data[:ntrain]\n",
        "test = all_data[ntrain:]\n"
      ],
      "execution_count": null,
      "outputs": []
    },
    {
      "cell_type": "markdown",
      "metadata": {
        "_cell_guid": "461af83d-a928-4645-8512-5e4dbcaf7be0",
        "_execution_state": "idle",
        "_uuid": "10aab4cee97832560e2627a490e01e80c0ffb814",
        "id": "N9k8ZcZAmbVz"
      },
      "source": [
        "#Modelling"
      ]
    },
    {
      "cell_type": "markdown",
      "metadata": {
        "_cell_guid": "811925a6-341f-4cae-89c9-00983868a6b2",
        "_execution_state": "idle",
        "_uuid": "be4e4b315682b26359eba1ba3d65022aca9501e1",
        "id": "ruSFpcSJmbV1"
      },
      "source": [
        "**Import librairies**"
      ]
    },
    {
      "cell_type": "code",
      "metadata": {
        "_cell_guid": "135e8ac5-ce46-4a5f-b205-13f827ef33b8",
        "_execution_state": "idle",
        "_uuid": "fc664fbe27561a3697d0210921107b0e14b7d211",
        "id": "4t5Y3PsBmbV2"
      },
      "source": [
        "from sklearn.linear_model import ElasticNet, Lasso,  BayesianRidge, LassoLarsIC\n",
        "from sklearn.ensemble import RandomForestRegressor,  GradientBoostingRegressor\n",
        "from sklearn.kernel_ridge import KernelRidge\n",
        "from sklearn.pipeline import make_pipeline\n",
        "from sklearn.preprocessing import RobustScaler\n",
        "from sklearn.base import BaseEstimator, TransformerMixin, RegressorMixin, clone\n",
        "from sklearn.model_selection import KFold, cross_val_score, train_test_split\n",
        "from sklearn.metrics import mean_squared_error\n",
        "import xgboost as xgb\n",
        "import lightgbm as lgb\n",
        "\n"
      ],
      "execution_count": null,
      "outputs": []
    },
    {
      "cell_type": "code",
      "metadata": {
        "id": "qfesvpbnjFWV",
        "colab": {
          "base_uri": "https://localhost:8080/",
          "height": 244
        },
        "outputId": "c1fb6699-4a46-4b0f-d3c0-e117d9f38ccc"
      },
      "source": [
        "train.head(5)"
      ],
      "execution_count": null,
      "outputs": [
        {
          "output_type": "execute_result",
          "data": {
            "text/html": [
              "<div>\n",
              "<style scoped>\n",
              "    .dataframe tbody tr th:only-of-type {\n",
              "        vertical-align: middle;\n",
              "    }\n",
              "\n",
              "    .dataframe tbody tr th {\n",
              "        vertical-align: top;\n",
              "    }\n",
              "\n",
              "    .dataframe thead th {\n",
              "        text-align: right;\n",
              "    }\n",
              "</style>\n",
              "<table border=\"1\" class=\"dataframe\">\n",
              "  <thead>\n",
              "    <tr style=\"text-align: right;\">\n",
              "      <th></th>\n",
              "      <th>MSSubClass</th>\n",
              "      <th>LotFrontage</th>\n",
              "      <th>LotArea</th>\n",
              "      <th>Street</th>\n",
              "      <th>Alley</th>\n",
              "      <th>LotShape</th>\n",
              "      <th>LandSlope</th>\n",
              "      <th>OverallQual</th>\n",
              "      <th>OverallCond</th>\n",
              "      <th>YearBuilt</th>\n",
              "      <th>YearRemodAdd</th>\n",
              "      <th>MasVnrArea</th>\n",
              "      <th>ExterQual</th>\n",
              "      <th>ExterCond</th>\n",
              "      <th>BsmtQual</th>\n",
              "      <th>BsmtCond</th>\n",
              "      <th>BsmtExposure</th>\n",
              "      <th>BsmtFinType1</th>\n",
              "      <th>BsmtFinSF1</th>\n",
              "      <th>BsmtFinType2</th>\n",
              "      <th>BsmtFinSF2</th>\n",
              "      <th>BsmtUnfSF</th>\n",
              "      <th>TotalBsmtSF</th>\n",
              "      <th>HeatingQC</th>\n",
              "      <th>CentralAir</th>\n",
              "      <th>1stFlrSF</th>\n",
              "      <th>2ndFlrSF</th>\n",
              "      <th>LowQualFinSF</th>\n",
              "      <th>GrLivArea</th>\n",
              "      <th>BsmtFullBath</th>\n",
              "      <th>BsmtHalfBath</th>\n",
              "      <th>FullBath</th>\n",
              "      <th>HalfBath</th>\n",
              "      <th>BedroomAbvGr</th>\n",
              "      <th>KitchenAbvGr</th>\n",
              "      <th>KitchenQual</th>\n",
              "      <th>TotRmsAbvGrd</th>\n",
              "      <th>Functional</th>\n",
              "      <th>Fireplaces</th>\n",
              "      <th>FireplaceQu</th>\n",
              "      <th>...</th>\n",
              "      <th>Foundation_Stone</th>\n",
              "      <th>Foundation_Wood</th>\n",
              "      <th>Heating_Floor</th>\n",
              "      <th>Heating_GasA</th>\n",
              "      <th>Heating_GasW</th>\n",
              "      <th>Heating_Grav</th>\n",
              "      <th>Heating_OthW</th>\n",
              "      <th>Heating_Wall</th>\n",
              "      <th>Electrical_FuseA</th>\n",
              "      <th>Electrical_FuseF</th>\n",
              "      <th>Electrical_FuseP</th>\n",
              "      <th>Electrical_Mix</th>\n",
              "      <th>Electrical_SBrkr</th>\n",
              "      <th>GarageType_2Types</th>\n",
              "      <th>GarageType_Attchd</th>\n",
              "      <th>GarageType_Basment</th>\n",
              "      <th>GarageType_BuiltIn</th>\n",
              "      <th>GarageType_CarPort</th>\n",
              "      <th>GarageType_Detchd</th>\n",
              "      <th>GarageType_None</th>\n",
              "      <th>MiscFeature_Gar2</th>\n",
              "      <th>MiscFeature_None</th>\n",
              "      <th>MiscFeature_Othr</th>\n",
              "      <th>MiscFeature_Shed</th>\n",
              "      <th>MiscFeature_TenC</th>\n",
              "      <th>SaleType_COD</th>\n",
              "      <th>SaleType_CWD</th>\n",
              "      <th>SaleType_Con</th>\n",
              "      <th>SaleType_ConLD</th>\n",
              "      <th>SaleType_ConLI</th>\n",
              "      <th>SaleType_ConLw</th>\n",
              "      <th>SaleType_New</th>\n",
              "      <th>SaleType_Oth</th>\n",
              "      <th>SaleType_WD</th>\n",
              "      <th>SaleCondition_Abnorml</th>\n",
              "      <th>SaleCondition_AdjLand</th>\n",
              "      <th>SaleCondition_Alloca</th>\n",
              "      <th>SaleCondition_Family</th>\n",
              "      <th>SaleCondition_Normal</th>\n",
              "      <th>SaleCondition_Partial</th>\n",
              "    </tr>\n",
              "  </thead>\n",
              "  <tbody>\n",
              "    <tr>\n",
              "      <th>0</th>\n",
              "      <td>2.886</td>\n",
              "      <td>5.831</td>\n",
              "      <td>19.212</td>\n",
              "      <td>0.730</td>\n",
              "      <td>0.730</td>\n",
              "      <td>1.541</td>\n",
              "      <td>0.000</td>\n",
              "      <td>2.440</td>\n",
              "      <td>1.820</td>\n",
              "      <td>14.188</td>\n",
              "      <td>14.188</td>\n",
              "      <td>8.059</td>\n",
              "      <td>1.194</td>\n",
              "      <td>1.820</td>\n",
              "      <td>1.194</td>\n",
              "      <td>1.820</td>\n",
              "      <td>1.541</td>\n",
              "      <td>1.194</td>\n",
              "      <td>11.170</td>\n",
              "      <td>2.260</td>\n",
              "      <td>0.000</td>\n",
              "      <td>7.483</td>\n",
              "      <td>11.693</td>\n",
              "      <td>0.000</td>\n",
              "      <td>0.730</td>\n",
              "      <td>11.693</td>\n",
              "      <td>11.686</td>\n",
              "      <td>0.000</td>\n",
              "      <td>13.699</td>\n",
              "      <td>0.730</td>\n",
              "      <td>0.000</td>\n",
              "      <td>1.194</td>\n",
              "      <td>0.730</td>\n",
              "      <td>1.541</td>\n",
              "      <td>0.730</td>\n",
              "      <td>1.194</td>\n",
              "      <td>2.603</td>\n",
              "      <td>2.260</td>\n",
              "      <td>0.000</td>\n",
              "      <td>1.541</td>\n",
              "      <td>...</td>\n",
              "      <td>0</td>\n",
              "      <td>0</td>\n",
              "      <td>0</td>\n",
              "      <td>1</td>\n",
              "      <td>0</td>\n",
              "      <td>0</td>\n",
              "      <td>0</td>\n",
              "      <td>0</td>\n",
              "      <td>0</td>\n",
              "      <td>0</td>\n",
              "      <td>0</td>\n",
              "      <td>0</td>\n",
              "      <td>1</td>\n",
              "      <td>0</td>\n",
              "      <td>1</td>\n",
              "      <td>0</td>\n",
              "      <td>0</td>\n",
              "      <td>0</td>\n",
              "      <td>0</td>\n",
              "      <td>0</td>\n",
              "      <td>0</td>\n",
              "      <td>1</td>\n",
              "      <td>0</td>\n",
              "      <td>0</td>\n",
              "      <td>0</td>\n",
              "      <td>0</td>\n",
              "      <td>0</td>\n",
              "      <td>0</td>\n",
              "      <td>0</td>\n",
              "      <td>0</td>\n",
              "      <td>0</td>\n",
              "      <td>0</td>\n",
              "      <td>0</td>\n",
              "      <td>1</td>\n",
              "      <td>0</td>\n",
              "      <td>0</td>\n",
              "      <td>0</td>\n",
              "      <td>0</td>\n",
              "      <td>1</td>\n",
              "      <td>0</td>\n",
              "    </tr>\n",
              "    <tr>\n",
              "      <th>1</th>\n",
              "      <td>2.056</td>\n",
              "      <td>6.221</td>\n",
              "      <td>19.712</td>\n",
              "      <td>0.730</td>\n",
              "      <td>0.730</td>\n",
              "      <td>1.541</td>\n",
              "      <td>0.000</td>\n",
              "      <td>2.260</td>\n",
              "      <td>2.440</td>\n",
              "      <td>14.145</td>\n",
              "      <td>14.145</td>\n",
              "      <td>0.000</td>\n",
              "      <td>1.541</td>\n",
              "      <td>1.820</td>\n",
              "      <td>1.194</td>\n",
              "      <td>1.820</td>\n",
              "      <td>0.730</td>\n",
              "      <td>0.000</td>\n",
              "      <td>12.063</td>\n",
              "      <td>2.260</td>\n",
              "      <td>0.000</td>\n",
              "      <td>8.898</td>\n",
              "      <td>12.792</td>\n",
              "      <td>0.000</td>\n",
              "      <td>0.730</td>\n",
              "      <td>12.792</td>\n",
              "      <td>0.000</td>\n",
              "      <td>0.000</td>\n",
              "      <td>12.792</td>\n",
              "      <td>0.000</td>\n",
              "      <td>0.730</td>\n",
              "      <td>1.194</td>\n",
              "      <td>0.000</td>\n",
              "      <td>1.541</td>\n",
              "      <td>0.730</td>\n",
              "      <td>1.541</td>\n",
              "      <td>2.260</td>\n",
              "      <td>2.260</td>\n",
              "      <td>0.730</td>\n",
              "      <td>2.056</td>\n",
              "      <td>...</td>\n",
              "      <td>0</td>\n",
              "      <td>0</td>\n",
              "      <td>0</td>\n",
              "      <td>1</td>\n",
              "      <td>0</td>\n",
              "      <td>0</td>\n",
              "      <td>0</td>\n",
              "      <td>0</td>\n",
              "      <td>0</td>\n",
              "      <td>0</td>\n",
              "      <td>0</td>\n",
              "      <td>0</td>\n",
              "      <td>1</td>\n",
              "      <td>0</td>\n",
              "      <td>1</td>\n",
              "      <td>0</td>\n",
              "      <td>0</td>\n",
              "      <td>0</td>\n",
              "      <td>0</td>\n",
              "      <td>0</td>\n",
              "      <td>0</td>\n",
              "      <td>1</td>\n",
              "      <td>0</td>\n",
              "      <td>0</td>\n",
              "      <td>0</td>\n",
              "      <td>0</td>\n",
              "      <td>0</td>\n",
              "      <td>0</td>\n",
              "      <td>0</td>\n",
              "      <td>0</td>\n",
              "      <td>0</td>\n",
              "      <td>0</td>\n",
              "      <td>0</td>\n",
              "      <td>1</td>\n",
              "      <td>0</td>\n",
              "      <td>0</td>\n",
              "      <td>0</td>\n",
              "      <td>0</td>\n",
              "      <td>1</td>\n",
              "      <td>0</td>\n",
              "    </tr>\n",
              "    <tr>\n",
              "      <th>2</th>\n",
              "      <td>2.886</td>\n",
              "      <td>5.915</td>\n",
              "      <td>20.347</td>\n",
              "      <td>0.730</td>\n",
              "      <td>0.730</td>\n",
              "      <td>0.000</td>\n",
              "      <td>0.000</td>\n",
              "      <td>2.440</td>\n",
              "      <td>1.820</td>\n",
              "      <td>14.184</td>\n",
              "      <td>14.186</td>\n",
              "      <td>7.647</td>\n",
              "      <td>1.194</td>\n",
              "      <td>1.820</td>\n",
              "      <td>1.194</td>\n",
              "      <td>1.820</td>\n",
              "      <td>1.194</td>\n",
              "      <td>1.194</td>\n",
              "      <td>10.200</td>\n",
              "      <td>2.260</td>\n",
              "      <td>0.000</td>\n",
              "      <td>9.917</td>\n",
              "      <td>11.892</td>\n",
              "      <td>0.000</td>\n",
              "      <td>0.730</td>\n",
              "      <td>11.892</td>\n",
              "      <td>11.725</td>\n",
              "      <td>0.000</td>\n",
              "      <td>13.832</td>\n",
              "      <td>0.730</td>\n",
              "      <td>0.000</td>\n",
              "      <td>1.194</td>\n",
              "      <td>0.730</td>\n",
              "      <td>1.541</td>\n",
              "      <td>0.730</td>\n",
              "      <td>1.194</td>\n",
              "      <td>2.260</td>\n",
              "      <td>2.260</td>\n",
              "      <td>0.730</td>\n",
              "      <td>2.056</td>\n",
              "      <td>...</td>\n",
              "      <td>0</td>\n",
              "      <td>0</td>\n",
              "      <td>0</td>\n",
              "      <td>1</td>\n",
              "      <td>0</td>\n",
              "      <td>0</td>\n",
              "      <td>0</td>\n",
              "      <td>0</td>\n",
              "      <td>0</td>\n",
              "      <td>0</td>\n",
              "      <td>0</td>\n",
              "      <td>0</td>\n",
              "      <td>1</td>\n",
              "      <td>0</td>\n",
              "      <td>1</td>\n",
              "      <td>0</td>\n",
              "      <td>0</td>\n",
              "      <td>0</td>\n",
              "      <td>0</td>\n",
              "      <td>0</td>\n",
              "      <td>0</td>\n",
              "      <td>1</td>\n",
              "      <td>0</td>\n",
              "      <td>0</td>\n",
              "      <td>0</td>\n",
              "      <td>0</td>\n",
              "      <td>0</td>\n",
              "      <td>0</td>\n",
              "      <td>0</td>\n",
              "      <td>0</td>\n",
              "      <td>0</td>\n",
              "      <td>0</td>\n",
              "      <td>0</td>\n",
              "      <td>1</td>\n",
              "      <td>0</td>\n",
              "      <td>0</td>\n",
              "      <td>0</td>\n",
              "      <td>0</td>\n",
              "      <td>1</td>\n",
              "      <td>0</td>\n",
              "    </tr>\n",
              "    <tr>\n",
              "      <th>3</th>\n",
              "      <td>3.011</td>\n",
              "      <td>5.685</td>\n",
              "      <td>19.692</td>\n",
              "      <td>0.730</td>\n",
              "      <td>0.730</td>\n",
              "      <td>0.000</td>\n",
              "      <td>0.000</td>\n",
              "      <td>2.440</td>\n",
              "      <td>1.820</td>\n",
              "      <td>14.048</td>\n",
              "      <td>14.136</td>\n",
              "      <td>0.000</td>\n",
              "      <td>1.541</td>\n",
              "      <td>1.820</td>\n",
              "      <td>1.820</td>\n",
              "      <td>0.730</td>\n",
              "      <td>1.541</td>\n",
              "      <td>0.000</td>\n",
              "      <td>8.274</td>\n",
              "      <td>2.260</td>\n",
              "      <td>0.000</td>\n",
              "      <td>10.468</td>\n",
              "      <td>11.354</td>\n",
              "      <td>1.194</td>\n",
              "      <td>0.730</td>\n",
              "      <td>12.014</td>\n",
              "      <td>11.354</td>\n",
              "      <td>0.000</td>\n",
              "      <td>13.711</td>\n",
              "      <td>0.730</td>\n",
              "      <td>0.000</td>\n",
              "      <td>0.730</td>\n",
              "      <td>0.000</td>\n",
              "      <td>1.541</td>\n",
              "      <td>0.730</td>\n",
              "      <td>1.194</td>\n",
              "      <td>2.440</td>\n",
              "      <td>2.260</td>\n",
              "      <td>0.730</td>\n",
              "      <td>1.194</td>\n",
              "      <td>...</td>\n",
              "      <td>0</td>\n",
              "      <td>0</td>\n",
              "      <td>0</td>\n",
              "      <td>1</td>\n",
              "      <td>0</td>\n",
              "      <td>0</td>\n",
              "      <td>0</td>\n",
              "      <td>0</td>\n",
              "      <td>0</td>\n",
              "      <td>0</td>\n",
              "      <td>0</td>\n",
              "      <td>0</td>\n",
              "      <td>1</td>\n",
              "      <td>0</td>\n",
              "      <td>0</td>\n",
              "      <td>0</td>\n",
              "      <td>0</td>\n",
              "      <td>0</td>\n",
              "      <td>1</td>\n",
              "      <td>0</td>\n",
              "      <td>0</td>\n",
              "      <td>1</td>\n",
              "      <td>0</td>\n",
              "      <td>0</td>\n",
              "      <td>0</td>\n",
              "      <td>0</td>\n",
              "      <td>0</td>\n",
              "      <td>0</td>\n",
              "      <td>0</td>\n",
              "      <td>0</td>\n",
              "      <td>0</td>\n",
              "      <td>0</td>\n",
              "      <td>0</td>\n",
              "      <td>1</td>\n",
              "      <td>1</td>\n",
              "      <td>0</td>\n",
              "      <td>0</td>\n",
              "      <td>0</td>\n",
              "      <td>0</td>\n",
              "      <td>0</td>\n",
              "    </tr>\n",
              "    <tr>\n",
              "      <th>4</th>\n",
              "      <td>2.886</td>\n",
              "      <td>6.315</td>\n",
              "      <td>21.325</td>\n",
              "      <td>0.730</td>\n",
              "      <td>0.730</td>\n",
              "      <td>0.000</td>\n",
              "      <td>0.000</td>\n",
              "      <td>2.603</td>\n",
              "      <td>1.820</td>\n",
              "      <td>14.183</td>\n",
              "      <td>14.183</td>\n",
              "      <td>9.392</td>\n",
              "      <td>1.194</td>\n",
              "      <td>1.820</td>\n",
              "      <td>1.194</td>\n",
              "      <td>1.820</td>\n",
              "      <td>0.000</td>\n",
              "      <td>1.194</td>\n",
              "      <td>10.971</td>\n",
              "      <td>2.260</td>\n",
              "      <td>0.000</td>\n",
              "      <td>10.221</td>\n",
              "      <td>12.511</td>\n",
              "      <td>0.000</td>\n",
              "      <td>0.730</td>\n",
              "      <td>12.511</td>\n",
              "      <td>12.271</td>\n",
              "      <td>0.000</td>\n",
              "      <td>14.480</td>\n",
              "      <td>0.730</td>\n",
              "      <td>0.000</td>\n",
              "      <td>1.194</td>\n",
              "      <td>0.730</td>\n",
              "      <td>1.820</td>\n",
              "      <td>0.730</td>\n",
              "      <td>1.194</td>\n",
              "      <td>2.750</td>\n",
              "      <td>2.260</td>\n",
              "      <td>0.730</td>\n",
              "      <td>2.056</td>\n",
              "      <td>...</td>\n",
              "      <td>0</td>\n",
              "      <td>0</td>\n",
              "      <td>0</td>\n",
              "      <td>1</td>\n",
              "      <td>0</td>\n",
              "      <td>0</td>\n",
              "      <td>0</td>\n",
              "      <td>0</td>\n",
              "      <td>0</td>\n",
              "      <td>0</td>\n",
              "      <td>0</td>\n",
              "      <td>0</td>\n",
              "      <td>1</td>\n",
              "      <td>0</td>\n",
              "      <td>1</td>\n",
              "      <td>0</td>\n",
              "      <td>0</td>\n",
              "      <td>0</td>\n",
              "      <td>0</td>\n",
              "      <td>0</td>\n",
              "      <td>0</td>\n",
              "      <td>1</td>\n",
              "      <td>0</td>\n",
              "      <td>0</td>\n",
              "      <td>0</td>\n",
              "      <td>0</td>\n",
              "      <td>0</td>\n",
              "      <td>0</td>\n",
              "      <td>0</td>\n",
              "      <td>0</td>\n",
              "      <td>0</td>\n",
              "      <td>0</td>\n",
              "      <td>0</td>\n",
              "      <td>1</td>\n",
              "      <td>0</td>\n",
              "      <td>0</td>\n",
              "      <td>0</td>\n",
              "      <td>0</td>\n",
              "      <td>1</td>\n",
              "      <td>0</td>\n",
              "    </tr>\n",
              "  </tbody>\n",
              "</table>\n",
              "<p>5 rows × 220 columns</p>\n",
              "</div>"
            ],
            "text/plain": [
              "   MSSubClass  LotFrontage  ...  SaleCondition_Normal  SaleCondition_Partial\n",
              "0       2.886        5.831  ...                     1                      0\n",
              "1       2.056        6.221  ...                     1                      0\n",
              "2       2.886        5.915  ...                     1                      0\n",
              "3       3.011        5.685  ...                     0                      0\n",
              "4       2.886        6.315  ...                     1                      0\n",
              "\n",
              "[5 rows x 220 columns]"
            ]
          },
          "metadata": {
            "tags": []
          },
          "execution_count": 52
        }
      ]
    },
    {
      "cell_type": "code",
      "metadata": {
        "id": "EdzPn6xUjPrs",
        "colab": {
          "base_uri": "https://localhost:8080/",
          "height": 34
        },
        "outputId": "7de3db0d-8fff-4903-f0c6-370733d37d46"
      },
      "source": [
        "train.shape"
      ],
      "execution_count": null,
      "outputs": [
        {
          "output_type": "execute_result",
          "data": {
            "text/plain": [
              "(1458, 220)"
            ]
          },
          "metadata": {
            "tags": []
          },
          "execution_count": 54
        }
      ]
    },
    {
      "cell_type": "markdown",
      "metadata": {
        "_cell_guid": "7aa6ebb9-27a7-4bd3-a7b2-4ddc6a0abbed",
        "_execution_state": "idle",
        "_uuid": "056b657c8f0de30d4708c600eabbb33684c64479",
        "id": "0tSwHD4imbV-"
      },
      "source": [
        "**Define a cross validation strategy**"
      ]
    },
    {
      "cell_type": "markdown",
      "metadata": {
        "_cell_guid": "4a2b5181-44f2-4c74-b482-aae0f5afc25a",
        "_execution_state": "idle",
        "_uuid": "dc0d7a3013f349988b3f2c84a6c130d6ad350170",
        "id": "LicP0xnbmbWB"
      },
      "source": [
        "We use the **cross_val_score** function of Sklearn. However this function has not a shuffle attribut, we add then one line of code,  in order to shuffle the dataset  prior to cross-validation"
      ]
    },
    {
      "cell_type": "code",
      "metadata": {
        "_cell_guid": "f396260b-e182-4a87-9a2a-b92b9375ea6f",
        "_execution_state": "idle",
        "_uuid": "5c12551d092a6c5cf32d86398b054da7af3047b8",
        "id": "8gCm9DTwmbWC"
      },
      "source": [
        "#Validation function\n",
        "n_folds = 5\n",
        "\n",
        "def rmsle_cv(model):\n",
        "    kf = KFold(n_folds, shuffle=True, random_state=42).get_n_splits(train.values)\n",
        "    rmse= np.sqrt(-cross_val_score(model, train.values, y_train, scoring=\"neg_mean_squared_error\", cv = kf))\n",
        "    return(rmse)"
      ],
      "execution_count": null,
      "outputs": []
    },
    {
      "cell_type": "markdown",
      "metadata": {
        "_cell_guid": "42e1565e-77a1-41a7-ac31-893e405d34ad",
        "_execution_state": "busy",
        "_uuid": "643ae2c4a88576ebbd55824ce8e654486087a6e0",
        "id": "UHVxeVtMmbWE"
      },
      "source": [
        "##Base models"
      ]
    },
    {
      "cell_type": "markdown",
      "metadata": {
        "_cell_guid": "578f088d-1a84-41cb-b945-ec64800f2308",
        "_execution_state": "idle",
        "_uuid": "370125198a0cbbc9336cbf179f00a2ebb02cb063",
        "id": "bfFgQ3FombWF"
      },
      "source": [
        "-  **LASSO  Regression**  : \n",
        "\n",
        "This model may be very sensitive to outliers. So we need to made it more robust on them. For that we use the sklearn's  **Robustscaler()**  method on pipeline "
      ]
    },
    {
      "cell_type": "code",
      "metadata": {
        "_cell_guid": "03f45cb7-0a40-45ea-94e8-64fd7ff1e8f6",
        "_execution_state": "idle",
        "_uuid": "2a50c954cb771d350c3092c3658486ba4d22aba5",
        "id": "BPAfZHZgmbWF"
      },
      "source": [
        "lasso = make_pipeline(RobustScaler(), Lasso(alpha =0.0005, random_state=1))"
      ],
      "execution_count": null,
      "outputs": []
    },
    {
      "cell_type": "markdown",
      "metadata": {
        "_cell_guid": "2c826f7b-ac66-421c-a7ae-29dfdd765bdb",
        "_execution_state": "idle",
        "_uuid": "30e9756cf63991715b48e8c53bc57906fc76f380",
        "id": "2ddJsQCEmbWI"
      },
      "source": [
        "- **Elastic Net Regression** :\n",
        "\n",
        "again made robust to outliers"
      ]
    },
    {
      "cell_type": "code",
      "metadata": {
        "_cell_guid": "e635cc7e-caeb-4f8b-ae78-c41f8eb0be59",
        "_execution_state": "idle",
        "_uuid": "b614cf1bdee86a3b1cbdde05298f9f7ae023799b",
        "id": "QGkoiVhfmbWI"
      },
      "source": [
        "ENet = make_pipeline(RobustScaler(), ElasticNet(alpha=0.0005, l1_ratio=.9, random_state=3))"
      ],
      "execution_count": null,
      "outputs": []
    },
    {
      "cell_type": "markdown",
      "metadata": {
        "_cell_guid": "7aae5316-4e32-4203-bff5-3b38c1f657c3",
        "_execution_state": "idle",
        "_uuid": "0775061bb477242f1332a048778e879ca540a216",
        "id": "Nje74d8hmbWP"
      },
      "source": [
        "- **Kernel Ridge Regression** :"
      ]
    },
    {
      "cell_type": "code",
      "metadata": {
        "_cell_guid": "805343d9-0af6-43a2-a351-c0b25c62fcf0",
        "_execution_state": "idle",
        "_uuid": "3199c83513d93407c818ce1ed43c6c52e7f5a8c6",
        "id": "p2KbYk0OmbWQ"
      },
      "source": [
        "KRR = KernelRidge(alpha=0.6, kernel='polynomial', degree=2, coef0=2.5)"
      ],
      "execution_count": null,
      "outputs": []
    },
    {
      "cell_type": "markdown",
      "metadata": {
        "_cell_guid": "5a66c27c-be80-4ec0-8953-eaeb2a7dd2e7",
        "_execution_state": "idle",
        "_uuid": "14b60a7e4296cccb39042c9c625a1480d59a01c1",
        "id": "RSX-Ln_dmbWb"
      },
      "source": [
        "- **Gradient Boosting Regression** :\n",
        "\n",
        "With **huber**  loss that makes it robust to outliers\n",
        "    "
      ]
    },
    {
      "cell_type": "code",
      "metadata": {
        "_cell_guid": "af13332c-fd37-40bb-a078-6bad6caaa2ab",
        "_execution_state": "idle",
        "_uuid": "9a983f0f62a0dde7689b20a8e52022bb189478b4",
        "id": "ggB0JI4mmbWc"
      },
      "source": [
        "GBoost = GradientBoostingRegressor(n_estimators=3000, learning_rate=0.05,\n",
        "                                   max_depth=4, max_features='sqrt',\n",
        "                                   min_samples_leaf=15, min_samples_split=10, \n",
        "                                   loss='huber', random_state =5)"
      ],
      "execution_count": null,
      "outputs": []
    },
    {
      "cell_type": "markdown",
      "metadata": {
        "_cell_guid": "d44ac87e-bf01-440b-ab22-b2868eb6ae48",
        "_execution_state": "idle",
        "_uuid": "53d7991f7dd03fcd7fb5ab1ec26fcd0614d002d3",
        "id": "vq1Nb_gImbWh"
      },
      "source": [
        "- **XGBoost** :"
      ]
    },
    {
      "cell_type": "code",
      "metadata": {
        "_cell_guid": "ed738a4c-c246-443c-a3c1-39df25f988b7",
        "_execution_state": "idle",
        "_uuid": "57c24b596ceb46d6f32ebf9501d672d7e469c15b",
        "id": "F4NfVlSGmbWh"
      },
      "source": [
        "model_xgb = xgb.XGBRegressor(colsample_bytree=0.4603, gamma=0.0468, \n",
        "                             learning_rate=0.05, max_depth=3, \n",
        "                             min_child_weight=1.7817, n_estimators=2200,\n",
        "                             reg_alpha=0.4640, reg_lambda=0.8571,\n",
        "                             subsample=0.5213, silent=1,\n",
        "                             random_state =7, nthread = -1)\n",
        "\n"
      ],
      "execution_count": null,
      "outputs": []
    },
    {
      "cell_type": "markdown",
      "metadata": {
        "_cell_guid": "a43ca74d-093c-4a56-a76c-b3223bf82fbc",
        "_execution_state": "idle",
        "_uuid": "460f3ccf7d5c33ea9f8a826bbf056d759e7b5119",
        "id": "MlWcE0kZmbWo"
      },
      "source": [
        "- **LightGBM** :"
      ]
    },
    {
      "cell_type": "code",
      "metadata": {
        "_cell_guid": "dd84d7db-3f83-4e4e-b02f-7632ca5ee4ac",
        "_execution_state": "idle",
        "_uuid": "4c94cf90f0ef0d350c5e66f3bd397865bfcc61ae",
        "id": "IqiDoppXmbWo"
      },
      "source": [
        "model_lgb = lgb.LGBMRegressor(objective='regression',num_leaves=5,\n",
        "                              learning_rate=0.05, n_estimators=720,\n",
        "                              max_bin = 55, bagging_fraction = 0.8,\n",
        "                              bagging_freq = 5, feature_fraction = 0.2319,\n",
        "                              feature_fraction_seed=9, bagging_seed=9,\n",
        "                              min_data_in_leaf =6, min_sum_hessian_in_leaf = 11)"
      ],
      "execution_count": null,
      "outputs": []
    },
    {
      "cell_type": "markdown",
      "metadata": {
        "_cell_guid": "9e1eff6a-e937-45e4-96ef-41593e31e1bb",
        "_execution_state": "idle",
        "_uuid": "71bce529300e2f3d9f9f475d01bd7001258dbede",
        "id": "7pfDJXrOmbWu"
      },
      "source": [
        "###Base models scores"
      ]
    },
    {
      "cell_type": "markdown",
      "metadata": {
        "_cell_guid": "84ddecce-7671-44e5-919d-97348bf413f4",
        "_execution_state": "idle",
        "_uuid": "cae4987b8ec89e90a90d7826c4ec98d315cac00b",
        "id": "jISZ4a-XmbWv"
      },
      "source": [
        "Let's see how these base models perform on the data by evaluating the  cross-validation rmsle error"
      ]
    },
    {
      "cell_type": "code",
      "metadata": {
        "_cell_guid": "2d0cc958-1654-425c-90ed-1ceb9edd7186",
        "_execution_state": "idle",
        "_uuid": "7d994349237b9304b0d17719e1af077e69288229",
        "collapsed": true,
        "id": "bs6uhlOGmbWw",
        "colab": {
          "base_uri": "https://localhost:8080/",
          "height": 67
        },
        "outputId": "747c1a5d-27b8-4d62-a896-e87fab0350a3"
      },
      "source": [
        "score = rmsle_cv(lasso)\n",
        "print(\"\\nLasso score: {:.4f} ({:.4f})\\n\".format(score.mean(), score.std())) # mean & the standard deviation\n",
        "\n"
      ],
      "execution_count": null,
      "outputs": [
        {
          "output_type": "stream",
          "text": [
            "\n",
            "Lasso score: 0.1115 (0.0074)\n",
            "\n"
          ],
          "name": "stdout"
        }
      ]
    },
    {
      "cell_type": "code",
      "metadata": {
        "_cell_guid": "7cf6faaf-d69a-4268-b192-a9e60d207c28",
        "_execution_state": "idle",
        "_uuid": "b6d299b9d4a0cdb23ddd8459b3935da2948016d6",
        "collapsed": true,
        "id": "Yu8dakVGmbW4",
        "colab": {
          "base_uri": "https://localhost:8080/",
          "height": 50
        },
        "outputId": "942b8ec7-0226-459a-89b0-77f809c657d9"
      },
      "source": [
        "score = rmsle_cv(ENet)\n",
        "print(\"ElasticNet score: {:.4f} ({:.4f})\\n\".format(score.mean(), score.std()))"
      ],
      "execution_count": null,
      "outputs": [
        {
          "output_type": "stream",
          "text": [
            "ElasticNet score: 0.1116 (0.0074)\n",
            "\n"
          ],
          "name": "stdout"
        }
      ]
    },
    {
      "cell_type": "code",
      "metadata": {
        "_cell_guid": "a1195106-2170-47f2-86a7-c4f3be683aa8",
        "_execution_state": "idle",
        "_uuid": "437dc093e88d661a369539520af1b4c37d1a0c1a",
        "collapsed": true,
        "id": "7N7_pKCPmbW6",
        "colab": {
          "base_uri": "https://localhost:8080/",
          "height": 50
        },
        "outputId": "12aa8721-3958-4ac8-81c7-3a2871f2dc59"
      },
      "source": [
        "score = rmsle_cv(KRR)\n",
        "print(\"Kernel Ridge score: {:.4f} ({:.4f})\\n\".format(score.mean(), score.std()))"
      ],
      "execution_count": null,
      "outputs": [
        {
          "output_type": "stream",
          "text": [
            "Kernel Ridge score: 0.1153 (0.0075)\n",
            "\n"
          ],
          "name": "stdout"
        }
      ]
    },
    {
      "cell_type": "code",
      "metadata": {
        "_cell_guid": "43dd152f-7c49-41b6-8f8e-a5864b1e2a71",
        "_execution_state": "idle",
        "_uuid": "e9d8c4bd191f77d8d275f53c0c1a6cf344151294",
        "collapsed": true,
        "id": "WSOsj1RMmbXA",
        "colab": {
          "base_uri": "https://localhost:8080/",
          "height": 50
        },
        "outputId": "0937c2ea-c262-40d4-ca91-6b23cd999d5e"
      },
      "source": [
        "score = rmsle_cv(GBoost)\n",
        "print(\"Gradient Boosting score: {:.4f} ({:.4f})\\n\".format(score.mean(), score.std()))"
      ],
      "execution_count": null,
      "outputs": [
        {
          "output_type": "stream",
          "text": [
            "Gradient Boosting score: 0.1167 (0.0083)\n",
            "\n"
          ],
          "name": "stdout"
        }
      ]
    },
    {
      "cell_type": "code",
      "metadata": {
        "_cell_guid": "30738ecc-39f8-44ed-9f42-68518beb7e6a",
        "_execution_state": "idle",
        "_uuid": "5f52ccf39d01165e61a7c6be8b788be4e58e286b",
        "collapsed": true,
        "id": "XXXTcObzmbXF",
        "colab": {
          "base_uri": "https://localhost:8080/",
          "height": 50
        },
        "outputId": "f17e4c08-0cef-451f-de69-a903b051adb5"
      },
      "source": [
        "\n",
        "score = rmsle_cv(model_xgb)\n",
        "print(\"Xgboost score: {:.4f} ({:.4f})\\n\".format(score.mean(), score.std()))"
      ],
      "execution_count": null,
      "outputs": [
        {
          "output_type": "stream",
          "text": [
            "Xgboost score: 0.1150 (0.0066)\n",
            "\n"
          ],
          "name": "stdout"
        }
      ]
    },
    {
      "cell_type": "code",
      "metadata": {
        "_cell_guid": "41e0eab9-630d-48d3-905b-e4663aad2262",
        "_execution_state": "idle",
        "_uuid": "5cd5377ee097fbc6fd14b42b4ea654221b097e59",
        "collapsed": true,
        "id": "8Q7B0U0vmbXI",
        "colab": {
          "base_uri": "https://localhost:8080/",
          "height": 50
        },
        "outputId": "a9e4e058-0264-4c0c-c531-95552037a0b5"
      },
      "source": [
        "score = rmsle_cv(model_lgb)\n",
        "print(\"LGBM score: {:.4f} ({:.4f})\\n\" .format(score.mean(), score.std()))"
      ],
      "execution_count": null,
      "outputs": [
        {
          "output_type": "stream",
          "text": [
            "LGBM score: 0.1176 (0.0062)\n",
            "\n"
          ],
          "name": "stdout"
        }
      ]
    },
    {
      "cell_type": "markdown",
      "metadata": {
        "_cell_guid": "1114bc71-7eb5-4a7c-97a1-42a69cc21130",
        "_execution_state": "idle",
        "_uuid": "06d3adc16585b54a85113882975297c67672ea07",
        "id": "PpswbuMtmbXM"
      },
      "source": [
        "##Stacking  models"
      ]
    },
    {
      "cell_type": "markdown",
      "metadata": {
        "_cell_guid": "56746043-0d77-4687-a8f2-ae494efae3a8",
        "_execution_state": "idle",
        "_uuid": "2410d2172ddc108475db49214c52c21e66aeee59",
        "id": "bBGGmQa9mbXN"
      },
      "source": [
        "###Simplest Stacking approach : Averaging base models"
      ]
    },
    {
      "cell_type": "markdown",
      "metadata": {
        "_cell_guid": "96d5979d-73ba-4810-bee2-e1a7a8de57f6",
        "_execution_state": "idle",
        "_uuid": "c6e3a67facbc786ddec2f56b40b4da37726d1be5",
        "id": "kf-6nlxHmbXO"
      },
      "source": [
        "We begin with this simple approach of averaging base models.  We build a new **class**  to extend scikit-learn with our model and also to laverage encapsulation and code reuse ([inheritance][1]) \n",
        "\n",
        "\n",
        "  [1]: https://en.wikipedia.org/wiki/Inheritance_(object-oriented_programming)"
      ]
    },
    {
      "cell_type": "markdown",
      "metadata": {
        "_cell_guid": "d0145496-896a-44e3-b01b-e12546328f06",
        "_execution_state": "idle",
        "_uuid": "5ecc887f1ab4001c872862cecf3a0b350ac51a23",
        "id": "5JNXFTIlmbXO"
      },
      "source": [
        "**Averaged base models class**"
      ]
    },
    {
      "cell_type": "code",
      "metadata": {
        "_cell_guid": "49e44ad6-8dc4-4a67-8079-adbac934fec4",
        "_execution_state": "idle",
        "_uuid": "ff3ee5889bcac40847909c3a71285d2b8f9d431f",
        "id": "uiuih93zmbXP"
      },
      "source": [
        "class AveragingModels(BaseEstimator, RegressorMixin, TransformerMixin):\n",
        "    def __init__(self, models):\n",
        "        self.models = models\n",
        "        \n",
        "    # we define clones of the original models to fit the data in\n",
        "    def fit(self, X, y):\n",
        "        self.models_ = [clone(x) for x in self.models]\n",
        "        \n",
        "        # Train cloned base models\n",
        "        for model in self.models_:\n",
        "            model.fit(X, y)\n",
        "\n",
        "        return self\n",
        "    \n",
        "    #Now we do the predictions for cloned models and average them\n",
        "    def predict(self, X):\n",
        "        predictions = np.column_stack([\n",
        "            model.predict(X) for model in self.models_\n",
        "        ])\n",
        "        return np.mean(predictions, axis=1)   "
      ],
      "execution_count": null,
      "outputs": []
    },
    {
      "cell_type": "markdown",
      "metadata": {
        "_cell_guid": "825eb99f-d509-4203-b0c6-4ff77f696322",
        "_execution_state": "idle",
        "_uuid": "f05bf966ea7a7b5e6f8ca5d641ebd11281d54d0d",
        "id": "xNxVEiBBmbXY"
      },
      "source": [
        "**Averaged base models score**"
      ]
    },
    {
      "cell_type": "markdown",
      "metadata": {
        "_cell_guid": "18209a57-f46d-4ce7-8331-834f419c57f2",
        "_execution_state": "idle",
        "_uuid": "b66ef29c829b7122a2e8e2d187211039570973ac",
        "id": "F-2_XAmgmbXZ"
      },
      "source": [
        "We just average four models here **ENet, GBoost,  KRR and lasso**.  Of course we could easily add more models in the mix. "
      ]
    },
    {
      "cell_type": "code",
      "metadata": {
        "_cell_guid": "d480916f-89e7-4bcc-9b9d-b54492591654",
        "_execution_state": "idle",
        "_uuid": "81ce9e148b7e735f465b4b6508511dea44fbf791",
        "collapsed": true,
        "id": "djV31s1QmbXZ",
        "colab": {
          "base_uri": "https://localhost:8080/",
          "height": 50
        },
        "outputId": "309f72e1-2b71-40a0-fc61-63357f68d752"
      },
      "source": [
        "averaged_models = AveragingModels(models = (ENet, GBoost, KRR, lasso))\n",
        "\n",
        "score = rmsle_cv(averaged_models)\n",
        "print(\" Averaged base models score: {:.4f} ({:.4f})\\n\".format(score.mean(), score.std()))"
      ],
      "execution_count": null,
      "outputs": [
        {
          "output_type": "stream",
          "text": [
            " Averaged base models score: 0.1087 (0.0077)\n",
            "\n"
          ],
          "name": "stdout"
        }
      ]
    },
    {
      "cell_type": "markdown",
      "metadata": {
        "_cell_guid": "588f9fd2-0c5e-43cd-8a0a-0271f2468ef7",
        "_execution_state": "idle",
        "_uuid": "421c03673969c6a2dd2253f9d4c503ab1276b105",
        "id": "nbsBYPa_mbXe"
      },
      "source": [
        "Wow ! It seems even the simplest stacking approach really improve the score . This encourages \n",
        "us to go further and explore a less simple stacking approch. "
      ]
    },
    {
      "cell_type": "markdown",
      "metadata": {
        "_cell_guid": "387761c7-9dc5-41aa-8cda-5315b6a72fbf",
        "_execution_state": "idle",
        "_uuid": "01b68302f0ec3af42a70794bc339bf5956ab2569",
        "id": "BNYIbxmMmbXf"
      },
      "source": [
        "###Less simple Stacking : Adding a Meta-model"
      ]
    },
    {
      "cell_type": "markdown",
      "metadata": {
        "_cell_guid": "cb18e314-968d-4765-942a-5706d0f4f815",
        "_execution_state": "idle",
        "_uuid": "69f216ce13eb61f0d07403986a2d38b11e18ae6a",
        "id": "Rva89uRxmbXf"
      },
      "source": [
        "In this approach, we add a meta-model on averaged base models and use the out-of-folds predictions of these base models to train our meta-model. \n",
        "\n",
        "The procedure, for the training part, may be described as follows:\n",
        "\n",
        "\n",
        "1. Split the total training set into two disjoint sets (here **train** and .**holdout** )\n",
        "\n",
        "2. Train several base models on the first part (**train**)\n",
        "\n",
        "3. Test these base models on the second part (**holdout**)\n",
        "\n",
        "4. Use the predictions from 3)  (called  out-of-folds predictions) as the inputs, and the correct responses (target variable) as the outputs  to train a higher level learner called **meta-model**.\n",
        "\n",
        "The first three steps are done iteratively . If we take for example a 5-fold stacking , we first split the training data into 5 folds. Then we will do 5 iterations. In each iteration,  we train every base model on 4 folds and predict on the remaining fold (holdout fold). \n",
        "\n",
        "So, we will be sure, after 5 iterations , that the entire data is used to get out-of-folds predictions that we will then use as \n",
        "new feature to train our meta-model in the step 4.\n",
        "\n",
        "For the prediction part , We average the predictions of  all base models on the test data  and used them as **meta-features**  on which, the final prediction is done with the meta-model.\n"
      ]
    },
    {
      "cell_type": "markdown",
      "metadata": {
        "_cell_guid": "7a1d4b95-ad19-4522-8459-99f0839a49bb",
        "_uuid": "5e232cc0edea67af1fc672ee07a93c435e7e2f98",
        "id": "Ms4e9p8xmbXg"
      },
      "source": [
        "![Faron](http://i.imgur.com/QBuDOjs.jpg)\n",
        "\n",
        "(Image taken from [Faron](https://www.kaggle.com/getting-started/18153#post103381))"
      ]
    },
    {
      "cell_type": "markdown",
      "metadata": {
        "_cell_guid": "9e3f01cb-cd76-4861-81c0-775c613f7d7f",
        "_uuid": "7c4d68ee6e6dffdf0b816bee48fd55b29bd66386",
        "id": "pg8KebSKmbXg"
      },
      "source": [
        "![kaz](http://5047-presscdn.pagely.netdna-cdn.com/wp-content/uploads/2017/06/image5.gif)\n",
        "\n",
        "Gif taken from [KazAnova's interview](http://blog.kaggle.com/2017/06/15/stacking-made-easy-an-introduction-to-stacknet-by-competitions-grandmaster-marios-michailidis-kazanova/)"
      ]
    },
    {
      "cell_type": "markdown",
      "metadata": {
        "_cell_guid": "b9ca03ee-0377-4313-a236-59d3d972cac3",
        "_uuid": "a46c5bab3855a4728c52765379c1674de3123a25",
        "id": "1TaLS1jpmbXg"
      },
      "source": [
        "On this gif, the base models are algorithms 0, 1, 2 and the meta-model is algorithm 3. The entire training dataset is \n",
        "A+B (target variable y known) that we can split into train part (A) and holdout part (B). And the test dataset is C. \n",
        "\n",
        "B1 (which is the prediction from the holdout part)  is the new feature used to train the meta-model 3 and C1 (which\n",
        "is the prediction  from the test dataset) is the meta-feature on which the final prediction is done. "
      ]
    },
    {
      "cell_type": "markdown",
      "metadata": {
        "_cell_guid": "bd10661e-6eec-4789-83fa-d55b77619252",
        "_execution_state": "idle",
        "_uuid": "5374a729325ac38423ff82891f1cc887f14ba317",
        "id": "6KFkm1e_mbXh"
      },
      "source": [
        "**Stacking averaged Models Class**"
      ]
    },
    {
      "cell_type": "code",
      "metadata": {
        "_cell_guid": "03326750-2442-4e14-8774-6e2ce9330173",
        "_execution_state": "idle",
        "_uuid": "9115cf7180ba9491bd0a2c5bd566e18238c9de80",
        "id": "OhDG-BKsmbXh"
      },
      "source": [
        "class StackingAveragedModels(BaseEstimator, RegressorMixin, TransformerMixin):\n",
        "    def __init__(self, base_models, meta_model, n_folds=5):\n",
        "        self.base_models = base_models\n",
        "        self.meta_model = meta_model\n",
        "        self.n_folds = n_folds\n",
        "   \n",
        "    # We again fit the data on clones of the original models\n",
        "    def fit(self, X, y):\n",
        "        self.base_models_ = [list() for x in self.base_models]\n",
        "        self.meta_model_ = clone(self.meta_model)\n",
        "        kfold = KFold(n_splits=self.n_folds, shuffle=True, random_state=156)\n",
        "        \n",
        "        # Train cloned base models then create out-of-fold predictions\n",
        "        # that are needed to train the cloned meta-model\n",
        "        out_of_fold_predictions = np.zeros((X.shape[0], len(self.base_models)))\n",
        "        for i, model in enumerate(self.base_models):\n",
        "            for train_index, holdout_index in kfold.split(X, y):\n",
        "                instance = clone(model)\n",
        "                self.base_models_[i].append(instance)\n",
        "                instance.fit(X[train_index], y[train_index])\n",
        "                y_pred = instance.predict(X[holdout_index])\n",
        "                out_of_fold_predictions[holdout_index, i] = y_pred\n",
        "                \n",
        "        # Now train the cloned  meta-model using the out-of-fold predictions as new feature\n",
        "        self.meta_model_.fit(out_of_fold_predictions, y)\n",
        "        return self\n",
        "   \n",
        "    #Do the predictions of all base models on the test data and use the averaged predictions as \n",
        "    #meta-features for the final prediction which is done by the meta-model\n",
        "    def predict(self, X):\n",
        "        meta_features = np.column_stack([\n",
        "            np.column_stack([model.predict(X) for model in base_models]).mean(axis=1)\n",
        "            for base_models in self.base_models_ ])\n",
        "        return self.meta_model_.predict(meta_features)"
      ],
      "execution_count": null,
      "outputs": []
    },
    {
      "cell_type": "markdown",
      "metadata": {
        "_cell_guid": "da4c9354-b5c2-4994-8ffd-550416a5c4db",
        "_execution_state": "idle",
        "_uuid": "5fdbcf5c678b260adf80cf39b0f3bb63a26213e1",
        "id": "DPIDVWRymbXk"
      },
      "source": [
        "**Stacking Averaged models Score**"
      ]
    },
    {
      "cell_type": "markdown",
      "metadata": {
        "_cell_guid": "03abed3d-205c-411d-89de-b566b7f1f708",
        "_execution_state": "idle",
        "_uuid": "10fdbde25e455566637627554269adff7dfec193",
        "id": "ecR-LcCambXk"
      },
      "source": [
        "To make the two approaches comparable (by using the same number of models) , we just average **Enet KRR and Gboost**, then we add **lasso as meta-model**."
      ]
    },
    {
      "cell_type": "code",
      "metadata": {
        "_cell_guid": "4db03a27-e9fb-484d-bbfe-2058f16dce77",
        "_execution_state": "idle",
        "_uuid": "f2c78b5950097660d3f8b84bade8d8dbdc3964f2",
        "collapsed": true,
        "id": "UNEvFe20mbXl",
        "colab": {
          "base_uri": "https://localhost:8080/",
          "height": 34
        },
        "outputId": "363d5a95-52dc-4351-b3bf-52727ca95411"
      },
      "source": [
        "stacked_averaged_models = StackingAveragedModels(base_models = (ENet, GBoost, KRR),\n",
        "                                                 meta_model = lasso)\n",
        "\n",
        "score = rmsle_cv(stacked_averaged_models)\n",
        "print(\"Stacking Averaged models score: {:.4f} ({:.4f})\".format(score.mean(), score.std()))"
      ],
      "execution_count": null,
      "outputs": [
        {
          "output_type": "stream",
          "text": [
            "Stacking Averaged models score: 0.1081 (0.0073)\n"
          ],
          "name": "stdout"
        }
      ]
    },
    {
      "cell_type": "markdown",
      "metadata": {
        "_cell_guid": "61f0f9af-9264-4945-829a-c629ed6a3299",
        "_execution_state": "idle",
        "_uuid": "0ca396a31059f16aff47e0d53d011865634e101e",
        "id": "WmevJdUXmbXn"
      },
      "source": [
        "We get again a better score by adding a meta learner"
      ]
    },
    {
      "cell_type": "markdown",
      "metadata": {
        "_cell_guid": "1cc6527c-4705-4895-992f-0c3755b27cee",
        "_execution_state": "idle",
        "_uuid": "75e8303614ea910f93056a8bdc4cd9cfe62ecd46",
        "id": "2CHKws0YmbXo"
      },
      "source": [
        "## Ensembling StackedRegressor, XGBoost and LightGBM"
      ]
    },
    {
      "cell_type": "markdown",
      "metadata": {
        "_cell_guid": "15f8fed4-bbf8-4eca-b400-8ea194010c78",
        "_execution_state": "idle",
        "_uuid": "5835af97aef41c60ea448988c606cd6a1f451712",
        "id": "h4rjWnp_mbXo"
      },
      "source": [
        "We add **XGBoost and LightGBM** to the** StackedRegressor** defined previously. "
      ]
    },
    {
      "cell_type": "markdown",
      "metadata": {
        "_cell_guid": "5ab5b13e-78c1-49be-9bcb-e54a6bf119d7",
        "_execution_state": "idle",
        "_uuid": "9015eddf85323209a7729420affecb9940bdd7d3",
        "id": "UEEagWU0mbXo"
      },
      "source": [
        "We first define a rmsle evaluation function "
      ]
    },
    {
      "cell_type": "code",
      "metadata": {
        "_cell_guid": "232c3959-c6e1-4535-8ad4-62892edc3f06",
        "_execution_state": "idle",
        "_uuid": "07f9ef433905b61a08a36790254d6a34661f0653",
        "id": "JL1fL-_ymbXp"
      },
      "source": [
        "def rmsle(y, y_pred):\n",
        "    return np.sqrt(mean_squared_error(y, y_pred))"
      ],
      "execution_count": null,
      "outputs": []
    },
    {
      "cell_type": "markdown",
      "metadata": {
        "_cell_guid": "999a8cc6-5083-4fca-bc90-616ac2f3ef8b",
        "_execution_state": "idle",
        "_uuid": "b7b74b70e6514b7623bc67cfec2b4f5d37c98707",
        "id": "NkUZiFxgmbXr"
      },
      "source": [
        "###Final Training and Prediction"
      ]
    },
    {
      "cell_type": "markdown",
      "metadata": {
        "_cell_guid": "717b4b02-8bcf-4df3-8994-f6a113110115",
        "_execution_state": "idle",
        "_uuid": "115d9e90a84c33213f0f0de7d86b6098f29ca7d8",
        "id": "wiKJgdfPmbXr"
      },
      "source": [
        "**StackedRegressor:**"
      ]
    },
    {
      "cell_type": "code",
      "metadata": {
        "_cell_guid": "e64b2750-1e32-4e91-affb-e583d6ca8722",
        "_execution_state": "busy",
        "_uuid": "8936479533c4bb147ab09f1d2133d8bacbf9afc1",
        "collapsed": true,
        "id": "pmuHNh3kmbXr",
        "colab": {
          "base_uri": "https://localhost:8080/",
          "height": 34
        },
        "outputId": "00867be4-24d8-458d-8c5c-e2f1dd62ce7a"
      },
      "source": [
        "stacked_averaged_models.fit(train.values, y_train)\n",
        "stacked_train_pred = stacked_averaged_models.predict(train.values)\n",
        "stacked_pred = np.expm1(stacked_averaged_models.predict(test.values))\n",
        "print(rmsle(y_train, stacked_train_pred))"
      ],
      "execution_count": null,
      "outputs": [
        {
          "output_type": "stream",
          "text": [
            "0.07839506096664622\n"
          ],
          "name": "stdout"
        }
      ]
    },
    {
      "cell_type": "markdown",
      "metadata": {
        "_cell_guid": "6c322757-44c0-4c81-a319-1aa6ccdf440f",
        "_execution_state": "idle",
        "_uuid": "06a0eafc07a8dae002f3fc1499849ebf7ec014be",
        "id": "iCi4gyO6mbXv"
      },
      "source": [
        "**XGBoost:**"
      ]
    },
    {
      "cell_type": "code",
      "metadata": {
        "_cell_guid": "2af45055-47aa-4e26-84df-ba5726bdff54",
        "_execution_state": "idle",
        "_uuid": "c80de2558910e4091f087a99bfcb202f01033ad7",
        "collapsed": true,
        "id": "41kvqrylmbXw",
        "colab": {
          "base_uri": "https://localhost:8080/",
          "height": 34
        },
        "outputId": "9eb41d30-47d9-4c8f-ee51-18f86b9c9dbc"
      },
      "source": [
        "model_xgb.fit(train, y_train)\n",
        "xgb_train_pred = model_xgb.predict(train)\n",
        "xgb_pred = np.expm1(model_xgb.predict(test))\n",
        "print(rmsle(y_train, xgb_train_pred))"
      ],
      "execution_count": null,
      "outputs": [
        {
          "output_type": "stream",
          "text": [
            "0.0788580427618937\n"
          ],
          "name": "stdout"
        }
      ]
    },
    {
      "cell_type": "markdown",
      "metadata": {
        "_cell_guid": "22b2b135-2af8-4dbb-a8f0-1fcd7f745a66",
        "_execution_state": "idle",
        "_uuid": "b6d1cdcc2bfc08d0eb58135878008e6d64987089",
        "id": "TLeJa5NFmbX_"
      },
      "source": [
        "**LightGBM:**"
      ]
    },
    {
      "cell_type": "code",
      "metadata": {
        "_cell_guid": "995d4c8e-db72-4370-a1ec-50e0c761f09a",
        "_execution_state": "idle",
        "_uuid": "65398376dca67e2aa78576108a0bb8160031c111",
        "collapsed": true,
        "id": "WKuDqa-cmbYA",
        "colab": {
          "base_uri": "https://localhost:8080/"
        },
        "outputId": "eb453bcf-39e4-4a5f-ca36-ec854e09d532"
      },
      "source": [
        "model_lgb.fit(train, y_train)\n",
        "lgb_train_pred = model_lgb.predict(train)\n",
        "lgb_pred = np.expm1(model_lgb.predict(test.values))\n",
        "print(rmsle(y_train, lgb_train_pred))"
      ],
      "execution_count": null,
      "outputs": [
        {
          "output_type": "stream",
          "text": [
            "0.07294132053731643\n"
          ],
          "name": "stdout"
        }
      ]
    },
    {
      "cell_type": "code",
      "metadata": {
        "_cell_guid": "619452b2-c395-48fe-81ab-d6b1d355236b",
        "_execution_state": "idle",
        "_uuid": "07500cf506f6a90c6439c2dabf81ab966cf1c792",
        "collapsed": true,
        "id": "4uaXhBvZmbYF",
        "colab": {
          "base_uri": "https://localhost:8080/"
        },
        "outputId": "a56a38f4-01ed-4dce-d9fc-bb2fbea7b9e2"
      },
      "source": [
        "'''RMSE on the entire Train data when averaging'''\n",
        "\n",
        "print('RMSLE score on train data:')\n",
        "print(rmsle(y_train,stacked_train_pred*0.70 +\n",
        "               xgb_train_pred*0.15 + lgb_train_pred*0.15 ))"
      ],
      "execution_count": null,
      "outputs": [
        {
          "output_type": "stream",
          "text": [
            "RMSLE score on train data:\n",
            "0.07566957841091893\n"
          ],
          "name": "stdout"
        }
      ]
    },
    {
      "cell_type": "markdown",
      "metadata": {
        "_cell_guid": "844b5e21-7bd2-4a2b-9f7a-2e755ed06ecb",
        "_execution_state": "idle",
        "_uuid": "59443e95f66cb9e595cff9a3666824299239126b",
        "id": "FzJ_mid7mbYJ"
      },
      "source": [
        "**Ensemble prediction:**"
      ]
    },
    {
      "cell_type": "code",
      "metadata": {
        "_cell_guid": "3ec2c58f-6bee-46a6-a263-1fe2cf3569cb",
        "_execution_state": "idle",
        "_uuid": "18996472b775bd9114fea7f08c8a554d4dafe774",
        "id": "UuYVFoc2mbYK"
      },
      "source": [
        "ensemble = stacked_pred*0.70 + xgb_pred*0.15 + lgb_pred*0.15"
      ],
      "execution_count": null,
      "outputs": []
    },
    {
      "cell_type": "markdown",
      "metadata": {
        "_cell_guid": "434ca649-2fa0-46a5-ab29-7f403448ddf7",
        "_execution_state": "idle",
        "_uuid": "c9f02561da543f4901dcd2051acbd6c197108dd5",
        "id": "tfOCMUEnmbYP"
      },
      "source": [
        "**Submission**"
      ]
    },
    {
      "cell_type": "code",
      "metadata": {
        "_cell_guid": "3db46af9-e18a-43bb-9699-45b851f835e5",
        "_execution_state": "idle",
        "_uuid": "93f6915cf25c7bb6b6fa6e74ad7b853387ac1db5",
        "id": "BiMT13qNmbYQ"
      },
      "source": [
        "sub = pd.DataFrame()\n",
        "sub['Id'] = test_ID\n",
        "sub['SalePrice'] = ensemble\n",
        "sub.to_csv('submission.csv',index=False)"
      ],
      "execution_count": null,
      "outputs": []
    },
    {
      "cell_type": "markdown",
      "metadata": {
        "_cell_guid": "a35b0fbc-5235-4463-a86f-526a32b86956",
        "_execution_state": "idle",
        "_uuid": "8a08ae030e55075f00e4f5d9354610c9b88c4c24",
        "id": "enStOHOembYS"
      },
      "source": [
        "**If you found this notebook helpful or you just liked it , some upvotes would be very much appreciated -  That will keep me motivated to update it on a regular basis** :-)"
      ]
    }
  ]
}
